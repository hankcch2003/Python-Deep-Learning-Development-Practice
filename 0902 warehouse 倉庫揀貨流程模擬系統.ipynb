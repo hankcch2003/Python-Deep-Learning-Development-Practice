{
 "cells": [
  {
   "cell_type": "markdown",
   "metadata": {
    "id": "MGbq_t1fDo_z"
   },
   "source": [
    "# 倉庫揀貨流程模擬系統(Simulation)"
   ]
  },
  {
   "cell_type": "code",
   "execution_count": 1,
   "metadata": {
    "executionInfo": {
     "elapsed": 39,
     "status": "ok",
     "timestamp": 1756812732969,
     "user": {
      "displayName": "Lewis Yang",
      "userId": "11249979140389061982"
     },
     "user_tz": -480
    },
    "id": "qPGDx4k3_BSb"
   },
   "outputs": [],
   "source": [
    "# 匯入numpy套件，用於數值計算與陣列處理\n",
    "import numpy as np\n",
    "\n",
    "# 將倉庫中每個位置對應到唯一的整數編號(state)，方便在強化學習中使用數值代表狀態\n",
    "# 例如：位置'A'對應到狀態0，位置'B'對應到狀態1，依此類推\n",
    "location_to_state = {'A': 0, 'B': 1, 'C': 2, 'D': 3, 'E': 4, 'F': 5, \n",
    "                     'G': 6, 'H': 7, 'I': 8, 'J': 9, 'K': 10, 'L': 11}\n",
    "\n",
    "# 行動空間(actions)：代表agent可以選擇移動到的目標位置編號，範圍從0到11，對應倉庫中12個不同位置\n",
    "actions = [0, 1, 2, 3, 4, 5, 6, 7, 8, 9, 10, 11]"
   ]
  },
  {
   "cell_type": "code",
   "execution_count": 2,
   "metadata": {
    "executionInfo": {
     "elapsed": 22,
     "status": "ok",
     "timestamp": 1756812733052,
     "user": {
      "displayName": "Lewis Yang",
      "userId": "11249979140389061982"
     },
     "user_tz": -480
    },
    "id": "qkgMi5QD-P2O"
   },
   "outputs": [],
   "source": [
    "# 行動限制矩陣R：表示倉庫中位置間的可移動關係\n",
    "# 矩陣的行與列分別對應位置A到L(0到11)\n",
    "# 1表示可從該行位置移動到該列位置，0表示不可移動\n",
    "# 位置'G'(索引6)有特殊高獎勵1000，可能代表目標位置\n",
    "\n",
    "R = np.array([\n",
    "    # A  B  C  D  E  F   G    H  I  J  K  L\n",
    "    [ 0, 1, 0, 0, 0, 0,  0,   0, 0, 0, 0, 0],  # A(0)\n",
    "    [ 1, 0, 1, 0, 0, 1,  0,   0, 0, 0, 0, 0],  # B(1)\n",
    "    [ 0, 1, 0, 0, 0, 0,  1,   0, 0, 0, 0, 0],  # C(2)\n",
    "    [ 0, 0, 0, 0, 0, 0,  0,   1, 0, 0, 0, 0],  # D(3)\n",
    "    [ 0, 0, 0, 0, 0, 0,  0,   0, 1, 0, 0, 0],  # E(4)\n",
    "    [ 0, 1, 0, 0, 0, 0,  0,   0, 0, 1, 0, 0],  # F(5)\n",
    "    [ 0, 0, 1, 0, 0, 0, 1000, 1, 0, 0, 0, 0],  # G(6)，高獎勵位置\n",
    "    [ 0, 0, 0, 1, 0, 0,  1,   0, 0, 0, 0, 1],  # H(7)\n",
    "    [ 0, 0, 0, 0, 1, 0,  0,   0, 0, 1, 0, 0],  # I(8)\n",
    "    [ 0, 0, 0, 0, 0, 1,  0,   0, 1, 0, 1, 0],  # J(9)\n",
    "    [ 0, 0, 0, 0, 0, 0,  0,   0, 0, 1, 0, 1],  # K(10)\n",
    "    [ 0, 0, 0, 0, 0, 0,  0,   1, 0, 0, 1, 0]   # L(11)\n",
    "])"
   ]
  },
  {
   "cell_type": "code",
   "execution_count": 3,
   "metadata": {
    "executionInfo": {
     "elapsed": 39,
     "status": "ok",
     "timestamp": 1756812733077,
     "user": {
      "displayName": "Lewis Yang",
      "userId": "11249979140389061982"
     },
     "user_tz": -480
    },
    "id": "QGJwVl-r8Jqk"
   },
   "outputs": [],
   "source": [
    "gamma = 0.75  # 折扣因子，影響未來獎勵的權重\n",
    "alpha = 0.9   # 學習率，控制Q值更新的速度\n",
    "\n",
    "# 行動值函數初始值為0\n",
    "Q = np.array(np.zeros([12, 12]))\n",
    "\n",
    "# 進行指定數量的回合(1000回合)\n",
    "for i in range(1000):\n",
    "    # 隨機選擇初始狀態(0到11)\n",
    "    current_state = np.random.randint(0, 12)\n",
    "\n",
    "    # 初始化空清單，用來存放可行的行動(位置索引)\n",
    "    playable_actions = []\n",
    "\n",
    "    # 針對所有位置索引0到11做迴圈檢查，若在行動限制矩陣R中current_state到j的位置可移動(值>0)，就把j加入可行動清單\n",
    "    for j in range(12):\n",
    "        if R[current_state, j] > 0:\n",
    "            playable_actions.append(j)\n",
    "    \n",
    "    # 從所有可行動的狀態中，隨機選擇下一個狀態(即執行的行動)\n",
    "    next_state = np.random.choice(playable_actions)\n",
    "\n",
    "    # 計算Temporal Difference(TD)誤差\n",
    "    # TD = 當前獎勵 + 折扣後的未來最大行動值 - 現在的行動值\n",
    "    TD = R[current_state, next_state] + gamma * Q[next_state, np.argmax(Q[next_state, :])] - Q[current_state, next_state]\n",
    "\n",
    "# 利用學習率(alpha)乘以TD誤差，更新行動值函數Q\n",
    "Q[current_state, next_state] += alpha * TD"
   ]
  },
  {
   "cell_type": "code",
   "execution_count": 4,
   "metadata": {
    "colab": {
     "base_uri": "https://localhost:8080/",
     "height": 426
    },
    "executionInfo": {
     "elapsed": 502,
     "status": "ok",
     "timestamp": 1756812733581,
     "user": {
      "displayName": "Lewis Yang",
      "userId": "11249979140389061982"
     },
     "user_tz": -480
    },
    "id": "SqAe8Pys8Lxc",
    "outputId": "eee64133-3cd2-4886-f416-450f50889c55",
    "scrolled": false
   },
   "outputs": [
    {
     "data": {
      "text/html": [
       "<style type=\"text/css\">\n",
       "#T_c879a_row0_col0, #T_c879a_row0_col1, #T_c879a_row0_col2, #T_c879a_row0_col3, #T_c879a_row0_col4, #T_c879a_row0_col5, #T_c879a_row0_col6, #T_c879a_row0_col7, #T_c879a_row0_col8, #T_c879a_row0_col9, #T_c879a_row0_col10, #T_c879a_row0_col11, #T_c879a_row1_col0, #T_c879a_row1_col1, #T_c879a_row1_col2, #T_c879a_row1_col3, #T_c879a_row1_col4, #T_c879a_row1_col5, #T_c879a_row1_col6, #T_c879a_row1_col7, #T_c879a_row1_col8, #T_c879a_row1_col9, #T_c879a_row1_col10, #T_c879a_row1_col11, #T_c879a_row2_col0, #T_c879a_row2_col1, #T_c879a_row2_col2, #T_c879a_row2_col3, #T_c879a_row2_col4, #T_c879a_row2_col5, #T_c879a_row2_col6, #T_c879a_row2_col7, #T_c879a_row2_col8, #T_c879a_row2_col9, #T_c879a_row2_col10, #T_c879a_row2_col11, #T_c879a_row3_col0, #T_c879a_row3_col1, #T_c879a_row3_col2, #T_c879a_row3_col3, #T_c879a_row3_col4, #T_c879a_row3_col5, #T_c879a_row3_col6, #T_c879a_row3_col8, #T_c879a_row3_col9, #T_c879a_row3_col10, #T_c879a_row3_col11, #T_c879a_row4_col0, #T_c879a_row4_col1, #T_c879a_row4_col2, #T_c879a_row4_col3, #T_c879a_row4_col4, #T_c879a_row4_col5, #T_c879a_row4_col6, #T_c879a_row4_col7, #T_c879a_row4_col8, #T_c879a_row4_col9, #T_c879a_row4_col10, #T_c879a_row4_col11, #T_c879a_row5_col0, #T_c879a_row5_col1, #T_c879a_row5_col2, #T_c879a_row5_col3, #T_c879a_row5_col4, #T_c879a_row5_col5, #T_c879a_row5_col6, #T_c879a_row5_col7, #T_c879a_row5_col8, #T_c879a_row5_col9, #T_c879a_row5_col10, #T_c879a_row5_col11, #T_c879a_row6_col0, #T_c879a_row6_col1, #T_c879a_row6_col2, #T_c879a_row6_col3, #T_c879a_row6_col4, #T_c879a_row6_col5, #T_c879a_row6_col6, #T_c879a_row6_col7, #T_c879a_row6_col8, #T_c879a_row6_col9, #T_c879a_row6_col10, #T_c879a_row6_col11, #T_c879a_row7_col0, #T_c879a_row7_col1, #T_c879a_row7_col2, #T_c879a_row7_col3, #T_c879a_row7_col4, #T_c879a_row7_col5, #T_c879a_row7_col6, #T_c879a_row7_col7, #T_c879a_row7_col8, #T_c879a_row7_col9, #T_c879a_row7_col10, #T_c879a_row7_col11, #T_c879a_row8_col0, #T_c879a_row8_col1, #T_c879a_row8_col2, #T_c879a_row8_col3, #T_c879a_row8_col4, #T_c879a_row8_col5, #T_c879a_row8_col6, #T_c879a_row8_col7, #T_c879a_row8_col8, #T_c879a_row8_col9, #T_c879a_row8_col10, #T_c879a_row8_col11, #T_c879a_row9_col0, #T_c879a_row9_col1, #T_c879a_row9_col2, #T_c879a_row9_col3, #T_c879a_row9_col4, #T_c879a_row9_col5, #T_c879a_row9_col6, #T_c879a_row9_col7, #T_c879a_row9_col8, #T_c879a_row9_col9, #T_c879a_row9_col10, #T_c879a_row9_col11, #T_c879a_row10_col0, #T_c879a_row10_col1, #T_c879a_row10_col2, #T_c879a_row10_col3, #T_c879a_row10_col4, #T_c879a_row10_col5, #T_c879a_row10_col6, #T_c879a_row10_col7, #T_c879a_row10_col8, #T_c879a_row10_col9, #T_c879a_row10_col10, #T_c879a_row10_col11, #T_c879a_row11_col0, #T_c879a_row11_col1, #T_c879a_row11_col2, #T_c879a_row11_col3, #T_c879a_row11_col4, #T_c879a_row11_col5, #T_c879a_row11_col6, #T_c879a_row11_col7, #T_c879a_row11_col8, #T_c879a_row11_col9, #T_c879a_row11_col10, #T_c879a_row11_col11 {\n",
       "  background-color: #f7fcf0;\n",
       "  color: #000000;\n",
       "}\n",
       "#T_c879a_row3_col7 {\n",
       "  background-color: #084081;\n",
       "  color: #f1f1f1;\n",
       "}\n",
       "</style>\n",
       "<table id=\"T_c879a\">\n",
       "  <thead>\n",
       "    <tr>\n",
       "      <th class=\"blank level0\" >&nbsp;</th>\n",
       "      <th id=\"T_c879a_level0_col0\" class=\"col_heading level0 col0\" >A</th>\n",
       "      <th id=\"T_c879a_level0_col1\" class=\"col_heading level0 col1\" >B</th>\n",
       "      <th id=\"T_c879a_level0_col2\" class=\"col_heading level0 col2\" >C</th>\n",
       "      <th id=\"T_c879a_level0_col3\" class=\"col_heading level0 col3\" >D</th>\n",
       "      <th id=\"T_c879a_level0_col4\" class=\"col_heading level0 col4\" >E</th>\n",
       "      <th id=\"T_c879a_level0_col5\" class=\"col_heading level0 col5\" >F</th>\n",
       "      <th id=\"T_c879a_level0_col6\" class=\"col_heading level0 col6\" >G</th>\n",
       "      <th id=\"T_c879a_level0_col7\" class=\"col_heading level0 col7\" >H</th>\n",
       "      <th id=\"T_c879a_level0_col8\" class=\"col_heading level0 col8\" >I</th>\n",
       "      <th id=\"T_c879a_level0_col9\" class=\"col_heading level0 col9\" >J</th>\n",
       "      <th id=\"T_c879a_level0_col10\" class=\"col_heading level0 col10\" >K</th>\n",
       "      <th id=\"T_c879a_level0_col11\" class=\"col_heading level0 col11\" >L</th>\n",
       "    </tr>\n",
       "  </thead>\n",
       "  <tbody>\n",
       "    <tr>\n",
       "      <th id=\"T_c879a_level0_row0\" class=\"row_heading level0 row0\" >0</th>\n",
       "      <td id=\"T_c879a_row0_col0\" class=\"data row0 col0\" >0.000000</td>\n",
       "      <td id=\"T_c879a_row0_col1\" class=\"data row0 col1\" >0.000000</td>\n",
       "      <td id=\"T_c879a_row0_col2\" class=\"data row0 col2\" >0.000000</td>\n",
       "      <td id=\"T_c879a_row0_col3\" class=\"data row0 col3\" >0.000000</td>\n",
       "      <td id=\"T_c879a_row0_col4\" class=\"data row0 col4\" >0.000000</td>\n",
       "      <td id=\"T_c879a_row0_col5\" class=\"data row0 col5\" >0.000000</td>\n",
       "      <td id=\"T_c879a_row0_col6\" class=\"data row0 col6\" >0.000000</td>\n",
       "      <td id=\"T_c879a_row0_col7\" class=\"data row0 col7\" >0.000000</td>\n",
       "      <td id=\"T_c879a_row0_col8\" class=\"data row0 col8\" >0.000000</td>\n",
       "      <td id=\"T_c879a_row0_col9\" class=\"data row0 col9\" >0.000000</td>\n",
       "      <td id=\"T_c879a_row0_col10\" class=\"data row0 col10\" >0.000000</td>\n",
       "      <td id=\"T_c879a_row0_col11\" class=\"data row0 col11\" >0.000000</td>\n",
       "    </tr>\n",
       "    <tr>\n",
       "      <th id=\"T_c879a_level0_row1\" class=\"row_heading level0 row1\" >1</th>\n",
       "      <td id=\"T_c879a_row1_col0\" class=\"data row1 col0\" >0.000000</td>\n",
       "      <td id=\"T_c879a_row1_col1\" class=\"data row1 col1\" >0.000000</td>\n",
       "      <td id=\"T_c879a_row1_col2\" class=\"data row1 col2\" >0.000000</td>\n",
       "      <td id=\"T_c879a_row1_col3\" class=\"data row1 col3\" >0.000000</td>\n",
       "      <td id=\"T_c879a_row1_col4\" class=\"data row1 col4\" >0.000000</td>\n",
       "      <td id=\"T_c879a_row1_col5\" class=\"data row1 col5\" >0.000000</td>\n",
       "      <td id=\"T_c879a_row1_col6\" class=\"data row1 col6\" >0.000000</td>\n",
       "      <td id=\"T_c879a_row1_col7\" class=\"data row1 col7\" >0.000000</td>\n",
       "      <td id=\"T_c879a_row1_col8\" class=\"data row1 col8\" >0.000000</td>\n",
       "      <td id=\"T_c879a_row1_col9\" class=\"data row1 col9\" >0.000000</td>\n",
       "      <td id=\"T_c879a_row1_col10\" class=\"data row1 col10\" >0.000000</td>\n",
       "      <td id=\"T_c879a_row1_col11\" class=\"data row1 col11\" >0.000000</td>\n",
       "    </tr>\n",
       "    <tr>\n",
       "      <th id=\"T_c879a_level0_row2\" class=\"row_heading level0 row2\" >2</th>\n",
       "      <td id=\"T_c879a_row2_col0\" class=\"data row2 col0\" >0.000000</td>\n",
       "      <td id=\"T_c879a_row2_col1\" class=\"data row2 col1\" >0.000000</td>\n",
       "      <td id=\"T_c879a_row2_col2\" class=\"data row2 col2\" >0.000000</td>\n",
       "      <td id=\"T_c879a_row2_col3\" class=\"data row2 col3\" >0.000000</td>\n",
       "      <td id=\"T_c879a_row2_col4\" class=\"data row2 col4\" >0.000000</td>\n",
       "      <td id=\"T_c879a_row2_col5\" class=\"data row2 col5\" >0.000000</td>\n",
       "      <td id=\"T_c879a_row2_col6\" class=\"data row2 col6\" >0.000000</td>\n",
       "      <td id=\"T_c879a_row2_col7\" class=\"data row2 col7\" >0.000000</td>\n",
       "      <td id=\"T_c879a_row2_col8\" class=\"data row2 col8\" >0.000000</td>\n",
       "      <td id=\"T_c879a_row2_col9\" class=\"data row2 col9\" >0.000000</td>\n",
       "      <td id=\"T_c879a_row2_col10\" class=\"data row2 col10\" >0.000000</td>\n",
       "      <td id=\"T_c879a_row2_col11\" class=\"data row2 col11\" >0.000000</td>\n",
       "    </tr>\n",
       "    <tr>\n",
       "      <th id=\"T_c879a_level0_row3\" class=\"row_heading level0 row3\" >3</th>\n",
       "      <td id=\"T_c879a_row3_col0\" class=\"data row3 col0\" >0.000000</td>\n",
       "      <td id=\"T_c879a_row3_col1\" class=\"data row3 col1\" >0.000000</td>\n",
       "      <td id=\"T_c879a_row3_col2\" class=\"data row3 col2\" >0.000000</td>\n",
       "      <td id=\"T_c879a_row3_col3\" class=\"data row3 col3\" >0.000000</td>\n",
       "      <td id=\"T_c879a_row3_col4\" class=\"data row3 col4\" >0.000000</td>\n",
       "      <td id=\"T_c879a_row3_col5\" class=\"data row3 col5\" >0.000000</td>\n",
       "      <td id=\"T_c879a_row3_col6\" class=\"data row3 col6\" >0.000000</td>\n",
       "      <td id=\"T_c879a_row3_col7\" class=\"data row3 col7\" >1.000000</td>\n",
       "      <td id=\"T_c879a_row3_col8\" class=\"data row3 col8\" >0.000000</td>\n",
       "      <td id=\"T_c879a_row3_col9\" class=\"data row3 col9\" >0.000000</td>\n",
       "      <td id=\"T_c879a_row3_col10\" class=\"data row3 col10\" >0.000000</td>\n",
       "      <td id=\"T_c879a_row3_col11\" class=\"data row3 col11\" >0.000000</td>\n",
       "    </tr>\n",
       "    <tr>\n",
       "      <th id=\"T_c879a_level0_row4\" class=\"row_heading level0 row4\" >4</th>\n",
       "      <td id=\"T_c879a_row4_col0\" class=\"data row4 col0\" >0.000000</td>\n",
       "      <td id=\"T_c879a_row4_col1\" class=\"data row4 col1\" >0.000000</td>\n",
       "      <td id=\"T_c879a_row4_col2\" class=\"data row4 col2\" >0.000000</td>\n",
       "      <td id=\"T_c879a_row4_col3\" class=\"data row4 col3\" >0.000000</td>\n",
       "      <td id=\"T_c879a_row4_col4\" class=\"data row4 col4\" >0.000000</td>\n",
       "      <td id=\"T_c879a_row4_col5\" class=\"data row4 col5\" >0.000000</td>\n",
       "      <td id=\"T_c879a_row4_col6\" class=\"data row4 col6\" >0.000000</td>\n",
       "      <td id=\"T_c879a_row4_col7\" class=\"data row4 col7\" >0.000000</td>\n",
       "      <td id=\"T_c879a_row4_col8\" class=\"data row4 col8\" >0.000000</td>\n",
       "      <td id=\"T_c879a_row4_col9\" class=\"data row4 col9\" >0.000000</td>\n",
       "      <td id=\"T_c879a_row4_col10\" class=\"data row4 col10\" >0.000000</td>\n",
       "      <td id=\"T_c879a_row4_col11\" class=\"data row4 col11\" >0.000000</td>\n",
       "    </tr>\n",
       "    <tr>\n",
       "      <th id=\"T_c879a_level0_row5\" class=\"row_heading level0 row5\" >5</th>\n",
       "      <td id=\"T_c879a_row5_col0\" class=\"data row5 col0\" >0.000000</td>\n",
       "      <td id=\"T_c879a_row5_col1\" class=\"data row5 col1\" >0.000000</td>\n",
       "      <td id=\"T_c879a_row5_col2\" class=\"data row5 col2\" >0.000000</td>\n",
       "      <td id=\"T_c879a_row5_col3\" class=\"data row5 col3\" >0.000000</td>\n",
       "      <td id=\"T_c879a_row5_col4\" class=\"data row5 col4\" >0.000000</td>\n",
       "      <td id=\"T_c879a_row5_col5\" class=\"data row5 col5\" >0.000000</td>\n",
       "      <td id=\"T_c879a_row5_col6\" class=\"data row5 col6\" >0.000000</td>\n",
       "      <td id=\"T_c879a_row5_col7\" class=\"data row5 col7\" >0.000000</td>\n",
       "      <td id=\"T_c879a_row5_col8\" class=\"data row5 col8\" >0.000000</td>\n",
       "      <td id=\"T_c879a_row5_col9\" class=\"data row5 col9\" >0.000000</td>\n",
       "      <td id=\"T_c879a_row5_col10\" class=\"data row5 col10\" >0.000000</td>\n",
       "      <td id=\"T_c879a_row5_col11\" class=\"data row5 col11\" >0.000000</td>\n",
       "    </tr>\n",
       "    <tr>\n",
       "      <th id=\"T_c879a_level0_row6\" class=\"row_heading level0 row6\" >6</th>\n",
       "      <td id=\"T_c879a_row6_col0\" class=\"data row6 col0\" >0.000000</td>\n",
       "      <td id=\"T_c879a_row6_col1\" class=\"data row6 col1\" >0.000000</td>\n",
       "      <td id=\"T_c879a_row6_col2\" class=\"data row6 col2\" >0.000000</td>\n",
       "      <td id=\"T_c879a_row6_col3\" class=\"data row6 col3\" >0.000000</td>\n",
       "      <td id=\"T_c879a_row6_col4\" class=\"data row6 col4\" >0.000000</td>\n",
       "      <td id=\"T_c879a_row6_col5\" class=\"data row6 col5\" >0.000000</td>\n",
       "      <td id=\"T_c879a_row6_col6\" class=\"data row6 col6\" >0.000000</td>\n",
       "      <td id=\"T_c879a_row6_col7\" class=\"data row6 col7\" >0.000000</td>\n",
       "      <td id=\"T_c879a_row6_col8\" class=\"data row6 col8\" >0.000000</td>\n",
       "      <td id=\"T_c879a_row6_col9\" class=\"data row6 col9\" >0.000000</td>\n",
       "      <td id=\"T_c879a_row6_col10\" class=\"data row6 col10\" >0.000000</td>\n",
       "      <td id=\"T_c879a_row6_col11\" class=\"data row6 col11\" >0.000000</td>\n",
       "    </tr>\n",
       "    <tr>\n",
       "      <th id=\"T_c879a_level0_row7\" class=\"row_heading level0 row7\" >7</th>\n",
       "      <td id=\"T_c879a_row7_col0\" class=\"data row7 col0\" >0.000000</td>\n",
       "      <td id=\"T_c879a_row7_col1\" class=\"data row7 col1\" >0.000000</td>\n",
       "      <td id=\"T_c879a_row7_col2\" class=\"data row7 col2\" >0.000000</td>\n",
       "      <td id=\"T_c879a_row7_col3\" class=\"data row7 col3\" >0.000000</td>\n",
       "      <td id=\"T_c879a_row7_col4\" class=\"data row7 col4\" >0.000000</td>\n",
       "      <td id=\"T_c879a_row7_col5\" class=\"data row7 col5\" >0.000000</td>\n",
       "      <td id=\"T_c879a_row7_col6\" class=\"data row7 col6\" >0.000000</td>\n",
       "      <td id=\"T_c879a_row7_col7\" class=\"data row7 col7\" >0.000000</td>\n",
       "      <td id=\"T_c879a_row7_col8\" class=\"data row7 col8\" >0.000000</td>\n",
       "      <td id=\"T_c879a_row7_col9\" class=\"data row7 col9\" >0.000000</td>\n",
       "      <td id=\"T_c879a_row7_col10\" class=\"data row7 col10\" >0.000000</td>\n",
       "      <td id=\"T_c879a_row7_col11\" class=\"data row7 col11\" >0.000000</td>\n",
       "    </tr>\n",
       "    <tr>\n",
       "      <th id=\"T_c879a_level0_row8\" class=\"row_heading level0 row8\" >8</th>\n",
       "      <td id=\"T_c879a_row8_col0\" class=\"data row8 col0\" >0.000000</td>\n",
       "      <td id=\"T_c879a_row8_col1\" class=\"data row8 col1\" >0.000000</td>\n",
       "      <td id=\"T_c879a_row8_col2\" class=\"data row8 col2\" >0.000000</td>\n",
       "      <td id=\"T_c879a_row8_col3\" class=\"data row8 col3\" >0.000000</td>\n",
       "      <td id=\"T_c879a_row8_col4\" class=\"data row8 col4\" >0.000000</td>\n",
       "      <td id=\"T_c879a_row8_col5\" class=\"data row8 col5\" >0.000000</td>\n",
       "      <td id=\"T_c879a_row8_col6\" class=\"data row8 col6\" >0.000000</td>\n",
       "      <td id=\"T_c879a_row8_col7\" class=\"data row8 col7\" >0.000000</td>\n",
       "      <td id=\"T_c879a_row8_col8\" class=\"data row8 col8\" >0.000000</td>\n",
       "      <td id=\"T_c879a_row8_col9\" class=\"data row8 col9\" >0.000000</td>\n",
       "      <td id=\"T_c879a_row8_col10\" class=\"data row8 col10\" >0.000000</td>\n",
       "      <td id=\"T_c879a_row8_col11\" class=\"data row8 col11\" >0.000000</td>\n",
       "    </tr>\n",
       "    <tr>\n",
       "      <th id=\"T_c879a_level0_row9\" class=\"row_heading level0 row9\" >9</th>\n",
       "      <td id=\"T_c879a_row9_col0\" class=\"data row9 col0\" >0.000000</td>\n",
       "      <td id=\"T_c879a_row9_col1\" class=\"data row9 col1\" >0.000000</td>\n",
       "      <td id=\"T_c879a_row9_col2\" class=\"data row9 col2\" >0.000000</td>\n",
       "      <td id=\"T_c879a_row9_col3\" class=\"data row9 col3\" >0.000000</td>\n",
       "      <td id=\"T_c879a_row9_col4\" class=\"data row9 col4\" >0.000000</td>\n",
       "      <td id=\"T_c879a_row9_col5\" class=\"data row9 col5\" >0.000000</td>\n",
       "      <td id=\"T_c879a_row9_col6\" class=\"data row9 col6\" >0.000000</td>\n",
       "      <td id=\"T_c879a_row9_col7\" class=\"data row9 col7\" >0.000000</td>\n",
       "      <td id=\"T_c879a_row9_col8\" class=\"data row9 col8\" >0.000000</td>\n",
       "      <td id=\"T_c879a_row9_col9\" class=\"data row9 col9\" >0.000000</td>\n",
       "      <td id=\"T_c879a_row9_col10\" class=\"data row9 col10\" >0.000000</td>\n",
       "      <td id=\"T_c879a_row9_col11\" class=\"data row9 col11\" >0.000000</td>\n",
       "    </tr>\n",
       "    <tr>\n",
       "      <th id=\"T_c879a_level0_row10\" class=\"row_heading level0 row10\" >10</th>\n",
       "      <td id=\"T_c879a_row10_col0\" class=\"data row10 col0\" >0.000000</td>\n",
       "      <td id=\"T_c879a_row10_col1\" class=\"data row10 col1\" >0.000000</td>\n",
       "      <td id=\"T_c879a_row10_col2\" class=\"data row10 col2\" >0.000000</td>\n",
       "      <td id=\"T_c879a_row10_col3\" class=\"data row10 col3\" >0.000000</td>\n",
       "      <td id=\"T_c879a_row10_col4\" class=\"data row10 col4\" >0.000000</td>\n",
       "      <td id=\"T_c879a_row10_col5\" class=\"data row10 col5\" >0.000000</td>\n",
       "      <td id=\"T_c879a_row10_col6\" class=\"data row10 col6\" >0.000000</td>\n",
       "      <td id=\"T_c879a_row10_col7\" class=\"data row10 col7\" >0.000000</td>\n",
       "      <td id=\"T_c879a_row10_col8\" class=\"data row10 col8\" >0.000000</td>\n",
       "      <td id=\"T_c879a_row10_col9\" class=\"data row10 col9\" >0.000000</td>\n",
       "      <td id=\"T_c879a_row10_col10\" class=\"data row10 col10\" >0.000000</td>\n",
       "      <td id=\"T_c879a_row10_col11\" class=\"data row10 col11\" >0.000000</td>\n",
       "    </tr>\n",
       "    <tr>\n",
       "      <th id=\"T_c879a_level0_row11\" class=\"row_heading level0 row11\" >11</th>\n",
       "      <td id=\"T_c879a_row11_col0\" class=\"data row11 col0\" >0.000000</td>\n",
       "      <td id=\"T_c879a_row11_col1\" class=\"data row11 col1\" >0.000000</td>\n",
       "      <td id=\"T_c879a_row11_col2\" class=\"data row11 col2\" >0.000000</td>\n",
       "      <td id=\"T_c879a_row11_col3\" class=\"data row11 col3\" >0.000000</td>\n",
       "      <td id=\"T_c879a_row11_col4\" class=\"data row11 col4\" >0.000000</td>\n",
       "      <td id=\"T_c879a_row11_col5\" class=\"data row11 col5\" >0.000000</td>\n",
       "      <td id=\"T_c879a_row11_col6\" class=\"data row11 col6\" >0.000000</td>\n",
       "      <td id=\"T_c879a_row11_col7\" class=\"data row11 col7\" >0.000000</td>\n",
       "      <td id=\"T_c879a_row11_col8\" class=\"data row11 col8\" >0.000000</td>\n",
       "      <td id=\"T_c879a_row11_col9\" class=\"data row11 col9\" >0.000000</td>\n",
       "      <td id=\"T_c879a_row11_col10\" class=\"data row11 col10\" >0.000000</td>\n",
       "      <td id=\"T_c879a_row11_col11\" class=\"data row11 col11\" >0.000000</td>\n",
       "    </tr>\n",
       "  </tbody>\n",
       "</table>\n"
      ],
      "text/plain": [
       "<pandas.io.formats.style.Styler at 0x246c24f3ca0>"
      ]
     },
     "execution_count": 4,
     "metadata": {},
     "output_type": "execute_result"
    }
   ],
   "source": [
    "# 匯入pandas套件，用於資料操作與分析\n",
    "import pandas as pd\n",
    "\n",
    "# 將Q值陣列轉成DataFrame，欄位名稱使用location_to_state字典中的位置名稱(A, B, C...)\n",
    "# 使用sorted()方法確保位置名稱依字母順序排列\n",
    "q_values = pd.DataFrame(Q, columns = sorted(location_to_state.keys()))\n",
    "\n",
    "# 對Q值四捨五入並用背景顏色漸層呈現，顏色映射使用'GnBu'色系(綠藍漸層)\n",
    "s = q_values.round().style.background_gradient(cmap='GnBu')\n",
    "\n",
    "# 顯示格式化後的Q值表格\n",
    "s"
   ]
  },
  {
   "cell_type": "code",
   "execution_count": 5,
   "metadata": {
    "executionInfo": {
     "elapsed": 11,
     "status": "ok",
     "timestamp": 1756812733586,
     "user": {
      "displayName": "Lewis Yang",
      "userId": "11249979140389061982"
     },
     "user_tz": -480
    },
    "id": "_OX4N4WBTw3r"
   },
   "outputs": [],
   "source": [
    "# 行動限制矩陣R：表示倉庫中各位置之間的可移動關係\n",
    "# R[i][j] = 1表示可以從位置i移動到位置j，0表示不可移動\n",
    "# 每一列對應的位置分別為A(0), B(1), C(2), ..., L(11)\n",
    "\n",
    "R = np.array([\n",
    "   # A  B  C  D  E  F  G  H  I  J  K  L\n",
    "    [0, 1, 0, 0, 0, 0, 0, 0, 0, 0, 0, 0],  # A可到B\n",
    "    [1, 0, 1, 0, 0, 1, 0, 0, 0, 0, 0, 0],  # B可到A, C, F\n",
    "    [0, 1, 0, 0, 0, 0, 1, 0, 0, 0, 0, 0],  # C可到B, G\n",
    "    [0, 0, 0, 0, 0, 0, 0, 1, 0, 0, 0, 0],  # D可到H\n",
    "    [0, 0, 0, 0, 0, 0, 0, 0, 1, 0, 0, 0],  # E可到I\n",
    "    [0, 1, 0, 0, 0, 0, 0, 0, 0, 1, 0, 0],  # F可到B, J\n",
    "    [0, 0, 1, 0, 0, 0, 1, 1, 0, 0, 0, 0],  # G可到C, G(自身), H\n",
    "    [0, 0, 0, 1, 0, 0, 1, 0, 0, 0, 0, 1],  # H可到D, G, L\n",
    "    [0, 0, 0, 0, 1, 0, 0, 0, 0, 1, 0, 0],  # I可到E, J\n",
    "    [0, 0, 0, 0, 0, 1, 0, 0, 1, 0, 1, 0],  # J可到F, I, K\n",
    "    [0, 0, 0, 0, 0, 0, 0, 0, 0, 1, 0, 1],  # K可到J, L\n",
    "    [0, 0, 0, 0, 0, 0, 0, 1, 0, 0, 1, 0],  # L可到H, K\n",
    "])"
   ]
  },
  {
   "cell_type": "code",
   "execution_count": 6,
   "metadata": {
    "colab": {
     "base_uri": "https://localhost:8080/"
    },
    "executionInfo": {
     "elapsed": 22,
     "status": "ok",
     "timestamp": 1756812733629,
     "user": {
      "displayName": "Lewis Yang",
      "userId": "11249979140389061982"
     },
     "user_tz": -480
    },
    "id": "Czn8TP9nJZ3o",
    "outputId": "b0bff70c-30fc-4948-fa15-0e5ca0cd0de9",
    "scrolled": true
   },
   "outputs": [
    {
     "data": {
      "text/plain": [
       "{0: 'A',\n",
       " 1: 'B',\n",
       " 2: 'C',\n",
       " 3: 'D',\n",
       " 4: 'E',\n",
       " 5: 'F',\n",
       " 6: 'G',\n",
       " 7: 'H',\n",
       " 8: 'I',\n",
       " 9: 'J',\n",
       " 10: 'K',\n",
       " 11: 'L'}"
      ]
     },
     "execution_count": 6,
     "metadata": {},
     "output_type": "execute_result"
    }
   ],
   "source": [
    "# location_to_state：位置名稱，如A對應的數值編號0\n",
    "# state_to_location：反轉後的字典，用於將狀態數值轉換回位置名稱\n",
    "# 例如：state_to_location[0]會傳回'A'\n",
    "\n",
    "# 將位置名稱與編號對調，建立數字到位置的字典\n",
    "state_to_location = {state: location for location, state in location_to_state.items()}\n",
    "\n",
    "# 輸出狀態代碼對應的位置名稱字典\n",
    "state_to_location"
   ]
  },
  {
   "cell_type": "code",
   "execution_count": 7,
   "metadata": {
    "executionInfo": {
     "elapsed": 5,
     "status": "ok",
     "timestamp": 1756812733631,
     "user": {
      "displayName": "Lewis Yang",
      "userId": "11249979140389061982"
     },
     "user_tz": -480
    },
    "id": "SdYSDdMeJGHV"
   },
   "outputs": [],
   "source": [
    "# 建立route函式，傳入起點與終點位置\n",
    "def route(starting_location, ending_location):\n",
    "    # 將終點位置轉換成對應的狀態編號\n",
    "    ending_state = location_to_state[ending_location]  \n",
    "    \n",
    "    # 複製獎勵矩陣R，避免修改原始矩陣\n",
    "    R_new = np.copy(R)  \n",
    "    \n",
    "    # 將終點狀態的獎勵設為1000，表示抵達終點的高獎勵\n",
    "    R_new[ending_state, ending_state] = 1000  \n",
    "    \n",
    "    # 初始化Q矩陣，12x12大小，初始值全為0\n",
    "    Q = np.array(np.zeros([12, 12]))  \n",
    "    \n",
    "    # 在每個回合中持續與環境互動，進行1000次學習迭代\n",
    "    for i in range(1000):\n",
    "        # 隨機選擇當前狀態(狀態編號0到11)\n",
    "        current_state = np.random.randint(0, 12)\n",
    "        \n",
    "        # 初始化可行動作列表，用於存放當前狀態可移動到的下一狀態\n",
    "        playable_actions = []\n",
    "\n",
    "        # 檢查所有可能的下一個狀態(0到11)\n",
    "        for j in range(12):\n",
    "            # 若從當前狀態移動到j狀態有獎勵，代表可行動\n",
    "            if R_new[current_state, j] > 0:\n",
    "                # 將該行動加入可執行行動清單\n",
    "                playable_actions.append(j)\n",
    "        \n",
    "        # 從可行動作中隨機選擇下一狀態，模擬探索環境\n",
    "        next_state = np.random.choice(playable_actions)\n",
    "        \n",
    "        # 計算TD誤差：即時獎勵 + 折扣後未來最高Q值 - 現有Q值\n",
    "        TD = R_new[current_state, next_state] + gamma * Q[next_state, np.argmax(Q[next_state,])] - Q[current_state, next_state]\n",
    "        \n",
    "        # 更新Q值，使用學習率alpha調整\n",
    "        Q[current_state, next_state] = Q[current_state, next_state] + alpha * TD  \n",
    "    \n",
    "    # 初始化路徑列表，將起點加入路徑中\n",
    "    route = [starting_location]\n",
    "\n",
    "    # 將下一位置暫時設為起點，準備開始尋找最佳路徑\n",
    "    next_location = starting_location\n",
    "    \n",
    "    # 持續找到下一步直到抵達終點\n",
    "    while next_location != ending_location:\n",
    "        # 將當前位置轉換成狀態編號\n",
    "        starting_state = location_to_state[starting_location]\n",
    "        \n",
    "        # 從Q矩陣中找出該狀態Q值最高的行動(下一狀態)\n",
    "        next_state = np.argmax(Q[starting_state,])\n",
    "        \n",
    "        # 將狀態編號轉換為對應的實際位置名稱\n",
    "        next_location = state_to_location[next_state]\n",
    "        \n",
    "        # 將下一位置加入路徑\n",
    "        route.append(next_location)\n",
    "        \n",
    "        # 將起點更新為新找到的下一個位置\n",
    "        starting_location = next_location\n",
    "\n",
    "    # 傳回最終找到的最佳路徑\n",
    "    return route"
   ]
  },
  {
   "cell_type": "code",
   "execution_count": 8,
   "metadata": {
    "colab": {
     "base_uri": "https://localhost:8080/"
    },
    "executionInfo": {
     "elapsed": 24,
     "status": "ok",
     "timestamp": 1756812733657,
     "user": {
      "displayName": "Lewis Yang",
      "userId": "11249979140389061982"
     },
     "user_tz": -480
    },
    "id": "SjH1bhzkKd-o",
    "outputId": "dc59afc8-0bfb-419c-a87a-3f9e593675cb"
   },
   "outputs": [
    {
     "data": {
      "text/plain": [
       "['E', 'I', 'J', 'K', 'L', 'H', 'G']"
      ]
     },
     "execution_count": 8,
     "metadata": {},
     "output_type": "execute_result"
    }
   ],
   "source": [
    "# 測試從節點E到節點G的最佳路徑\n",
    "route('E', 'G')"
   ]
  },
  {
   "cell_type": "code",
   "execution_count": 9,
   "metadata": {
    "colab": {
     "base_uri": "https://localhost:8080/"
    },
    "executionInfo": {
     "elapsed": 16,
     "status": "ok",
     "timestamp": 1756812733676,
     "user": {
      "displayName": "Lewis Yang",
      "userId": "11249979140389061982"
     },
     "user_tz": -480
    },
    "id": "sk7py6OK_BSh",
    "outputId": "dd7695f5-89be-49f8-bd16-51253099183f"
   },
   "outputs": [
    {
     "data": {
      "text/plain": [
       "['A', 'B', 'F', 'J', 'K']"
      ]
     },
     "execution_count": 9,
     "metadata": {},
     "output_type": "execute_result"
    }
   ],
   "source": [
    "# 測試從節點A到節點K的最佳路徑\n",
    "route('A', 'K')"
   ]
  },
  {
   "cell_type": "code",
   "execution_count": 10,
   "metadata": {
    "executionInfo": {
     "elapsed": 7,
     "status": "ok",
     "timestamp": 1756812733686,
     "user": {
      "displayName": "Lewis Yang",
      "userId": "11249979140389061982"
     },
     "user_tz": -480
    },
    "id": "4KqzfWIOKgJG"
   },
   "outputs": [],
   "source": [
    "# 建立best_route函式，傳入起點、中繼點與終點位置，並傳回最佳路徑\n",
    "def best_route(starting_location, intermediary_location, ending_location):\n",
    "    # 3個點的路由 = 起點到中繼點的最佳路由 + 中繼點到終點的最佳路由(去掉重複的中繼點)\n",
    "    # 例如：best_route('A', 'G', 'I') = route('A', 'G') + route('G', 'I')[1:]\n",
    "    return route(starting_location, intermediary_location) + route(intermediary_location, ending_location)[1:]"
   ]
  },
  {
   "cell_type": "code",
   "execution_count": 11,
   "metadata": {
    "colab": {
     "base_uri": "https://localhost:8080/"
    },
    "executionInfo": {
     "elapsed": 67,
     "status": "ok",
     "timestamp": 1756812733756,
     "user": {
      "displayName": "Lewis Yang",
      "userId": "11249979140389061982"
     },
     "user_tz": -480
    },
    "id": "-aPuiFqOXLUb",
    "outputId": "3ae424e5-242a-43fd-990c-fec37f4f4660"
   },
   "outputs": [
    {
     "data": {
      "text/plain": [
       "['E', 'I', 'J', 'K', 'L', 'H', 'G']"
      ]
     },
     "execution_count": 11,
     "metadata": {},
     "output_type": "execute_result"
    }
   ],
   "source": [
    "# 測試從E經過K到G的最佳路徑\n",
    "best_route('E', 'K', 'G')"
   ]
  },
  {
   "cell_type": "code",
   "execution_count": 12,
   "metadata": {
    "cellView": "form",
    "colab": {
     "base_uri": "https://localhost:8080/"
    },
    "executionInfo": {
     "elapsed": 64,
     "status": "ok",
     "timestamp": 1756812733822,
     "user": {
      "displayName": "Lewis Yang",
      "userId": "11249979140389061982"
     },
     "user_tz": -480
    },
    "id": "BNEVlr0lbFys",
    "outputId": "a56930c5-f5bf-4e9c-8ab9-21f3ec3aaf77"
   },
   "outputs": [
    {
     "name": "stdout",
     "output_type": "stream",
     "text": [
      "最佳路由: \n",
      "A, B, C, G, H, L, K\n"
     ]
    }
   ],
   "source": [
    "# 測試從A經過G到K的最佳路由\n",
    "initial = \"A\"       # 起點位置設定為A\n",
    "intermediary = \"G\"  # 中繼點位置設定為G\n",
    "final = \"K\"         # 終點位置設定為K\n",
    "\n",
    "# 呼叫best_route函式，計算從起點經中繼點到終點的最佳路徑，並將結果存入best\n",
    "best = best_route(initial, intermediary, final)\n",
    "\n",
    "# 輸出標題文字提示\n",
    "print('最佳路由: ')\n",
    "\n",
    "# 使用print的展開運算子 * 將路徑列表展開，並用逗號和空格分隔，輸出完整路徑\n",
    "print(*best, sep=', ')"
   ]
  }
 ],
 "metadata": {
  "accelerator": "GPU",
  "colab": {
   "provenance": []
  },
  "kernelspec": {
   "display_name": "py39_env",
   "language": "python",
   "name": "python3"
  },
  "language_info": {
   "codemirror_mode": {
    "name": "ipython",
    "version": 3
   },
   "file_extension": ".py",
   "mimetype": "text/x-python",
   "name": "python",
   "nbconvert_exporter": "python",
   "pygments_lexer": "ipython3",
   "version": "3.9.23"
  }
 },
 "nbformat": 4,
 "nbformat_minor": 0
}
