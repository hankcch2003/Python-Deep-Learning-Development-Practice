{
 "cells": [
  {
   "cell_type": "code",
   "execution_count": 1,
   "id": "09043e72",
   "metadata": {},
   "outputs": [
    {
     "name": "stdout",
     "output_type": "stream",
     "text": [
      "累計報酬: 0.9000\n",
      "行動: [-1, 1, 1, -1, 1, 1]\n"
     ]
    }
   ],
   "source": [
    "# 載入random套件，用於隨機選擇行動\n",
    "import random\n",
    "\n",
    "# 環境類別\n",
    "class Environment:    \n",
    "    def __init__(self):    # 初始化環境\n",
    "        self.poistion = 3  # 玩家一開始站在中間位置(位置為3)\n",
    "\n",
    "    # 取得觀測/狀態\n",
    "    def get_observation(self):\n",
    "        # 狀態空間(State Space)，共有5個位置[1, 2, 3, 4, 5]\n",
    "        return [i for i in range(1, 6)]\n",
    "\n",
    "    # 取得可行的動作\n",
    "    def get_actions(self):        \n",
    "        return [-1, 1]  # 動作空間(Action Space)：-1 左移，+1 右移\n",
    "\n",
    "    # 判斷回合是否結束\n",
    "    def is_done(self):\n",
    "        # 如果玩家走到左右兩端(1或5)，回合結束\n",
    "        return self.poistion == 1 or self.poistion == 5\n",
    "\n",
    "    # 執行一步\n",
    "    def step(self, action):\n",
    "        # 如果回合已結束，禁止再走\n",
    "        if self.is_done():\n",
    "            raise Exception(\"Game over\")\n",
    "        \n",
    "        # 更新玩家位置\n",
    "        self.poistion += action\n",
    "\n",
    "        # 根據新位置給予獎勵\n",
    "        if self.poistion == 1:\n",
    "            reward = -1     # 左端點，負獎勵\n",
    "        elif self.poistion == 5:\n",
    "            reward = 1      # 右端點，正獎勵\n",
    "        else:    \n",
    "            reward = -0.02  # 中間位置，略微懲罰，鼓勵快速到達端點\n",
    "\n",
    "        # 回傳新的狀態和獎勵\n",
    "        return self.poistion, reward\n",
    "\n",
    "# 代理人類別\n",
    "class Agent:\n",
    "    def __init__(self):\n",
    "        pass  # 初始化，可擴充學習策略等\n",
    "\n",
    "    # 決策動作\n",
    "    def action(self, env):\n",
    "        current_obs = env.get_observation()      # 取得目前狀態(但此範例未使用)\n",
    "        return random.choice(env.get_actions())  # 隨機選擇一個動作(-1或1)\n",
    "\n",
    "# 主程式\n",
    "if __name__ == \"__main__\":\n",
    "    # 建立環境與代理人\n",
    "    env = Environment()\n",
    "    agent = Agent()\n",
    "\n",
    "    # 記錄累計報酬與動作序列\n",
    "    total_reward = 0  \n",
    "    action_list = []\n",
    "\n",
    "    # 遊戲回合，直到結束\n",
    "    while not env.is_done():\n",
    "        action = agent.action(env)           # 代理人選擇動作\n",
    "        action_list += [action]              # 記錄動作\n",
    "        state, reward = env.step(action)     # 執行動作，更新狀態與獎勵\n",
    "        total_reward += reward               # 累計獎勵\n",
    "    \n",
    "    # 顯示最終結果\n",
    "    print(f\"累計報酬: {total_reward:.4f}\")\n",
    "    print(f\"行動: {action_list}\")"
   ]
  }
 ],
 "metadata": {
  "kernelspec": {
   "display_name": "base",
   "language": "python",
   "name": "python3"
  },
  "language_info": {
   "codemirror_mode": {
    "name": "ipython",
    "version": 3
   },
   "file_extension": ".py",
   "mimetype": "text/x-python",
   "name": "python",
   "nbconvert_exporter": "python",
   "pygments_lexer": "ipython3",
   "version": "3.12.3"
  }
 },
 "nbformat": 4,
 "nbformat_minor": 5
}
