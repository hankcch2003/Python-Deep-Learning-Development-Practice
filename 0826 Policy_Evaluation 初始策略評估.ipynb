{
 "cells": [
  {
   "cell_type": "markdown",
   "metadata": {
    "id": "O37RVbVtXHgC"
   },
   "source": [
    "# 簡易的Grid World迷宮之初始策略評估計算"
   ]
  },
  {
   "cell_type": "code",
   "execution_count": 1,
   "metadata": {
    "id": "Jjac1CU7XHgE",
    "outputId": "0c2e3041-fb54-4dcb-be1e-2c55b07eee46"
   },
   "outputs": [
    {
     "data": {
      "image/png": "[encoded data removed]",
      "text/plain": [
       "<IPython.core.display.Image object>"
      ]
     },
     "execution_count": 1,
     "metadata": {},
     "output_type": "execute_result"
    }
   ],
   "source": [
    "# 從IPython.display模組匯入Image類別，用來在Jupyter Notebook中顯示圖片\n",
    "from IPython.display import Image\n",
    "\n",
    "# 載入並顯示位於當前目錄中的grid_world.png圖片\n",
    "Image('./grid_world.png')"
   ]
  },
  {
   "cell_type": "code",
   "execution_count": 2,
   "metadata": {
    "executionInfo": {
     "elapsed": 12,
     "status": "ok",
     "timestamp": 1756210880352,
     "user": {
      "displayName": "Lewis Yang",
      "userId": "11249979140389061982"
     },
     "user_tz": -480
    },
    "id": "6acfKlvGXHgF"
   },
   "outputs": [],
   "source": [
    "# 匯入numpy套件，用於數值計算與陣列處理\n",
    "import numpy as np\n",
    "\n",
    "# 匯入random模組，用於隨機數生成\n",
    "import random"
   ]
  },
  {
   "cell_type": "code",
   "execution_count": 3,
   "metadata": {
    "executionInfo": {
     "elapsed": 8,
     "status": "ok",
     "timestamp": 1756210964969,
     "user": {
      "displayName": "Lewis Yang",
      "userId": "11249979140389061982"
     },
     "user_tz": -480
    },
    "id": "gLJVtz5-XHgF"
   },
   "outputs": [],
   "source": [
    "# 定義網格大小為4x4(表示一個4行4列的格子世界)\n",
    "gridSize = 4\n",
    "\n",
    "# 每走一步的獎勵為-1(代表移動會消耗資源或付出代價)\n",
    "rewardValue = -1\n",
    "\n",
    "# 遊戲的終止狀態(終點位置)，當agent移動到這些格子時，遊戲結束\n",
    "# [0, 0]表示左上角格子\n",
    "# [gridSize - 1, gridSize - 1]表示右下角格子，這裡是[3, 3]\n",
    "terminationStates = [[0, 0], [gridSize - 1, gridSize - 1]]\n",
    "\n",
    "# 行動空間：定義agent可以採取的4種動作(上下左右)，用向量表示位移方向\n",
    "actions = [[-1, 0],   # 上：x減1，y不變\n",
    "           [1, 0],    # 下：x加1，y不變\n",
    "           [0, 1],    # 右：x不變，y加1\n",
    "           [0, -1]]   # 左：x不變，y減1"
   ]
  },
  {
   "cell_type": "code",
   "execution_count": 4,
   "metadata": {
    "executionInfo": {
     "elapsed": 50,
     "status": "ok",
     "timestamp": 1756211004069,
     "user": {
      "displayName": "Lewis Yang",
      "userId": "11249979140389061982"
     },
     "user_tz": -480
    },
    "id": "9fJJNLRGXHgG"
   },
   "outputs": [],
   "source": [
    "# 定義一個函式，用來計算在特定狀態執行某個動作後的結果(新位置與獎勵)\n",
    "def actionValue(initialPosition, action):\n",
    "    \n",
    "    # 如果目前位置是終點狀態之一(不再移動)\n",
    "    if initialPosition in terminationStates:\n",
    "        finalPosition = initialPosition   # 不移動，保持在原地\n",
    "        reward = 0                        # 在終點，獎勵為0(代表已達成目標，沒有額外懲罰)\n",
    "\n",
    "    else:\n",
    "        # 若不是終點，則根據動作更新位置\n",
    "        # initialPosition和action都是座標[x, y]，使用numpy相加得到新座標\n",
    "        finalPosition = np.array(initialPosition) + np.array(action)\n",
    "\n",
    "        # 每次移動的獎勵預設為-1(懲罰)\n",
    "        reward = rewardValue\n",
    "\n",
    "    # 若移動後的位置超出邊界，則退回原來的位置\n",
    "    if -1 in finalPosition or gridSize in finalPosition:\n",
    "        finalPosition = initialPosition  # 移動無效，退回原地\n",
    "        reward = rewardValue             # 移動失敗，仍給予懲罰(-1)\n",
    "\n",
    "    # 傳回移動後的位置與該次行動的獎勵\n",
    "    return finalPosition, reward"
   ]
  },
  {
   "cell_type": "code",
   "execution_count": 5,
   "metadata": {
    "executionInfo": {
     "elapsed": 5,
     "status": "ok",
     "timestamp": 1756211319925,
     "user": {
      "displayName": "Lewis Yang",
      "userId": "11249979140389061982"
     },
     "user_tz": -480
    },
    "id": "KTC5aL4oXHgG"
   },
   "outputs": [],
   "source": [
    "# 策略評估函式(Policy Evaluation)\n",
    "# numIterations：訓練迭代次數(表示對整張value map更新多少次)\n",
    "# gamma：折扣因子，影響未來獎勵的權重\n",
    "# valueMap：目前的狀態值函數(以二維陣列表示每個位置的價值)\n",
    "# 在這裡我們假設策略是均勻的，也就是每個動作的機率都是1/4\n",
    "\n",
    "def policy_evaluation(numIterations, gamma, valueMap):\n",
    "    # 建立valueMap的副本，用來暫存新計算的值\n",
    "    valueMap1 = np.copy(valueMap)\n",
    "\n",
    "    # 執行多次遍歷來更新每個狀態的價值(根據固定策略)\n",
    "    for i in range(numIterations):\n",
    "        # 對所有狀態進行遍歷更新\n",
    "        for state in states:     # states是所有非終點格子的位置清單(需事先定義)\n",
    "            weightedRewards = 0  # 初始化加權平均報酬(用來計算該狀態的值)\n",
    "\n",
    "            # 對每一個可能動作進行計算(四個方向)\n",
    "            for action in actions:\n",
    "                # 取得執行動作後的新位置與該動作的獎勵\n",
    "                finalPosition, reward = actionValue(state, action)\n",
    "\n",
    "                # 套用貝爾曼期望方程式：加總所有可能動作的期望報酬(每個動作的機率是1/4)\n",
    "                weightedRewards += 1/4 * (reward + gamma * valueMap[finalPosition[0], finalPosition[1]])\n",
    "\n",
    "            # 將加總後的期望值更新到新value map\n",
    "            valueMap1[state[0], state[1]] = weightedRewards\n",
    "\n",
    "        # 將本輪計算得到的valueMap1複製到valueMap，作為下一輪遍歷的基礎\n",
    "        # 使用np.copy()是為了避免valueMap與valueMap1共用記憶體，防止互相影響\n",
    "        valueMap = np.copy(valueMap1)\n",
    "\n",
    "    # 印出最終的狀態值函數value map(或可改為每次印)\n",
    "    print(valueMap, '\\n')"
   ]
  },
  {
   "cell_type": "markdown",
   "metadata": {
    "id": "Sbidq-6wXHgG"
   },
   "source": [
    "## 訓練3週期"
   ]
  },
  {
   "cell_type": "code",
   "execution_count": 6,
   "metadata": {
    "colab": {
     "base_uri": "https://localhost:8080/"
    },
    "executionInfo": {
     "elapsed": 45680,
     "status": "ok",
     "timestamp": 1756211370298,
     "user": {
      "displayName": "Lewis Yang",
      "userId": "11249979140389061982"
     },
     "user_tz": -480
    },
    "id": "06Sfx2ZWXHgG",
    "outputId": "af31208c-7e83-428a-c5f7-e20f568d2117"
   },
   "outputs": [
    {
     "name": "stdout",
     "output_type": "stream",
     "text": [
      "[[  0. -14. -20. -22.]\n",
      " [-14. -18. -20. -20.]\n",
      " [-20. -20. -18. -14.]\n",
      " [-22. -20. -14.   0.]] \n",
      "\n"
     ]
    }
   ],
   "source": [
    "# 初始化狀態值函數(Value Function)，所有狀態的初始值設為0\n",
    "valueMap = np.zeros((gridSize, gridSize))  \n",
    "\n",
    "# 定義所有可能的狀態(x, y)，即網格世界中的每一個位置\n",
    "states = [[i, j] for i in range(gridSize) for j in range(gridSize)]\n",
    "\n",
    "# 執行策略評估(Policy Evaluation)\n",
    "# 參數說明：\n",
    "# 600 → 訓練的迭代次數(episodes/iterations)\n",
    "# 1 → 折扣因子γ(discount factor)，1代表未來獎勵與當前同等重要\n",
    "# valueMap → 狀態值函數，用來存放每個狀態的估計價值\n",
    "\n",
    "policy_evaluation(600, 1, valueMap)  "
   ]
  }
 ],
 "metadata": {
  "colab": {
   "provenance": []
  },
  "kernelspec": {
   "display_name": "base",
   "language": "python",
   "name": "python3"
  },
  "language_info": {
   "codemirror_mode": {
    "name": "ipython",
    "version": 3
   },
   "file_extension": ".py",
   "mimetype": "text/x-python",
   "name": "python",
   "nbconvert_exporter": "python",
   "pygments_lexer": "ipython3",
   "version": "3.12.3"
  }
 },
 "nbformat": 4,
 "nbformat_minor": 0
}
