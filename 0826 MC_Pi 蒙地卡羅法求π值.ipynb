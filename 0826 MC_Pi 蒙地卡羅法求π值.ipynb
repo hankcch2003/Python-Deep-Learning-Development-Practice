{
 "cells": [
  {
   "cell_type": "markdown",
   "metadata": {
    "id": "_SBm4l2Leki8"
   },
   "source": [
    "# 使用蒙地卡羅演算法求圓周率值(π)"
   ]
  },
  {
   "cell_type": "code",
   "execution_count": 1,
   "metadata": {
    "executionInfo": {
     "elapsed": 9,
     "status": "ok",
     "timestamp": 1744204313909,
     "user": {
      "displayName": "Lewis Yang",
      "userId": "11249979140389061982"
     },
     "user_tz": -480
    },
    "id": "FbImC1MIekjE"
   },
   "outputs": [
    {
     "data": {
      "text/plain": [
       "0.9461027053809408"
      ]
     },
     "execution_count": 1,
     "metadata": {},
     "output_type": "execute_result"
    }
   ],
   "source": [
    "# 匯入random模組，用於隨機數生成\n",
    "import random\n",
    "\n",
    "# 使用random.random()方法產生一個介於0.0(含)到1.0(不含)之間的隨機浮點數\n",
    "random.random()"
   ]
  },
  {
   "cell_type": "code",
   "execution_count": 2,
   "metadata": {
    "colab": {
     "base_uri": "https://localhost:8080/"
    },
    "executionInfo": {
     "elapsed": 18685,
     "status": "ok",
     "timestamp": 1744205530064,
     "user": {
      "displayName": "Lewis Yang",
      "userId": "11249979140389061982"
     },
     "user_tz": -480
    },
    "id": "kCVrdUleekjG",
    "outputId": "fcc30c9d-6ba6-41d5-8340-3369d2a630b3"
   },
   "outputs": [
    {
     "name": "stdout",
     "output_type": "stream",
     "text": [
      "CPU times: total: 10.5 s\n",
      "Wall time: 10.6 s\n"
     ]
    },
    {
     "data": {
      "text/plain": [
       "3.1407144"
      ]
     },
     "execution_count": 2,
     "metadata": {},
     "output_type": "execute_result"
    }
   ],
   "source": [
    "%%time\n",
    "\n",
    "# 模擬次數(也就是要產生的隨機點數)，這裡是1,000萬次\n",
    "run_count = 10000000\n",
    "\n",
    "# 建立一個空串列list1，用來存放產生出來的隨機點座標(每個點為[x, y])\n",
    "list1 = []\n",
    "\n",
    "# 在 X:(-0.5, +0.5)，Y:(-0.5, +0.5)範圍內產生一千萬個隨機點\n",
    "for _ in range(run_count):\n",
    "    # random.random()方法會產生0.0 ~ 1.0之間的浮點數\n",
    "    # 減去0.5會將範圍變成-0.5 ~ +0.5\n",
    "    # 所以每個點的x, y都是落在正方形[-0.5, 0.5] × [-0.5, 0.5]內\n",
    "    list1.append([random.random() - 0.5, random.random() - 0.5])\n",
    "\n",
    "# 用來統計落在圓形範圍內的點數(初始值設為0)\n",
    "in_circle_count = 0\n",
    "\n",
    "# 檢查每個點是否落在以原點為中心、半徑為0.5的圓形內\n",
    "for i in range(run_count):\n",
    "    # 如果x ** 2 + y ** 2小於等於0.5 ** 2，表示該點在圓內或圓周上\n",
    "    if list1[i][0] ** 2 + list1[i][1] ** 2 <= 0.5 ** 2:\n",
    "        in_circle_count += 1  # 累加在圓內的點數\n",
    "\n",
    "# 根據落在圓內的比例來估算π的值\n",
    "# 圓面積 = π * r^2，正方形面積 = (2r) ** 2 = 4r ** 2\n",
    "# 所以 π ≈ (圓內點數 / 全部點數) * 4\n",
    "pi = (in_circle_count / run_count) * 4\n",
    "\n",
    "# 輸出估算出來的π值\n",
    "pi"
   ]
  }
 ],
 "metadata": {
  "colab": {
   "provenance": []
  },
  "kernelspec": {
   "display_name": "base",
   "language": "python",
   "name": "python3"
  },
  "language_info": {
   "codemirror_mode": {
    "name": "ipython",
    "version": 3
   },
   "file_extension": ".py",
   "mimetype": "text/x-python",
   "name": "python",
   "nbconvert_exporter": "python",
   "pygments_lexer": "ipython3",
   "version": "3.12.3"
  }
 },
 "nbformat": 4,
 "nbformat_minor": 0
}
