{
 "cells": [
  {
   "cell_type": "markdown",
   "metadata": {
    "id": "U2mvWsHszQY2"
   },
   "source": [
    "# Grid World迷宮之策略循環(Policy Iteration)"
   ]
  },
  {
   "cell_type": "code",
   "execution_count": 1,
   "metadata": {},
   "outputs": [
    {
     "data": {
      "image/png": "[encoded data removed]",
      "text/plain": [
       "<IPython.core.display.Image object>"
      ]
     },
     "execution_count": 1,
     "metadata": {},
     "output_type": "execute_result"
    }
   ],
   "source": [
    "# 從IPython.display模組匯入Image類別，用來在Jupyter Notebook中顯示圖片\n",
    "from IPython.display import Image\n",
    "\n",
    "# 載入並顯示位於當前目錄中的grid_world.png圖片\n",
    "Image('./grid_world.png')"
   ]
  },
  {
   "cell_type": "code",
   "execution_count": 2,
   "metadata": {
    "executionInfo": {
     "elapsed": 106,
     "status": "ok",
     "timestamp": 1756212715894,
     "user": {
      "displayName": "Lewis Yang",
      "userId": "11249979140389061982"
     },
     "user_tz": -480
    },
    "id": "xTUQN_4szUqk"
   },
   "outputs": [
    {
     "name": "stdout",
     "output_type": "stream",
     "text": [
      "lib/__init__.py\n",
      "lib/__pycache__/\n",
      "lib/__pycache__/__init__.cpython-38.pyc\n",
      "lib/__pycache__/__init__.cpython-39.pyc\n",
      "lib/__pycache__/plotting.cpython-38.pyc\n",
      "lib/__pycache__/plotting.cpython-39.pyc\n",
      "lib/atari/\n",
      "lib/atari/__init__.py\n",
      "lib/atari/helpers.py\n",
      "lib/atari/state_processor.py\n",
      "lib/envs/\n",
      "lib/envs/.ipynb_checkpoints/\n",
      "lib/envs/.ipynb_checkpoints/gridworld-checkpoint.py\n",
      "lib/envs/__init__.py\n",
      "lib/envs/__pycache__/\n",
      "lib/envs/__pycache__/__init__.cpython-36.pyc\n",
      "lib/envs/__pycache__/__init__.cpython-38.pyc\n",
      "lib/envs/__pycache__/__init__.cpython-39.pyc\n",
      "lib/envs/__pycache__/blackjack.cpython-38.pyc\n",
      "lib/envs/__pycache__/blackjack.cpython-39.pyc\n",
      "lib/envs/__pycache__/cliff_walking.cpython-36.pyc\n",
      "lib/envs/__pycache__/cliff_walking.cpython-38.pyc\n",
      "lib/envs/__pycache__/cliff_walking.cpython-39.pyc\n",
      "lib/envs/__pycache__/discrete.cpython-38.pyc\n",
      "lib/envs/__pycache__/discrete.cpython-39.pyc\n",
      "lib/envs/__pycache__/gridworld.cpython-38.pyc\n",
      "lib/envs/__pycache__/gridworld.cpython-39.pyc\n",
      "lib/envs/__pycache__/gridworld0.cpython-39.pyc\n",
      "lib/envs/__pycache__/windy_gridworld.cpython-38.pyc\n",
      "lib/envs/__pycache__/windy_gridworld.cpython-39.pyc\n",
      "lib/envs/blackjack.py\n",
      "lib/envs/cliff_walking.py\n",
      "lib/envs/discrete.py\n",
      "lib/envs/gridworld.py\n",
      "lib/envs/windy_gridworld.py\n",
      "lib/plotting.py\n"
     ]
    }
   ],
   "source": [
    "# 匯入zipfile模組，用來處理.zip壓縮檔案\n",
    "import zipfile\n",
    "\n",
    "# 使用with敘述開啟lib.zip壓縮檔案，確保使用完自動關閉\n",
    "with zipfile.ZipFile(\"lib.zip\") as zf:\n",
    "    # 使用infolist()取得壓縮檔中所有檔案的資訊(ZipInfo物件)\n",
    "    for info in zf.infolist():\n",
    "    \n",
    "        # 因為某些zip壓縮檔的檔名是以cp437編碼(特別是從Windows系統壓縮的)\n",
    "        # 所以這裡先將原本的檔名(字串)用cp437編碼為bytes，再用utf-8解碼為正確的字串\n",
    "        # 這樣可以正確顯示中文或特殊字元的檔名\n",
    "        print(info.filename.encode('cp437').decode('utf-8'))\n",
    "\n",
    "        # 將目前這個檔案(info)解壓縮到target_folder資料夾中\n",
    "        zf.extract(info, \"target_folder\")"
   ]
  },
  {
   "cell_type": "code",
   "execution_count": 3,
   "metadata": {
    "colab": {
     "base_uri": "https://localhost:8080/"
    },
    "executionInfo": {
     "elapsed": 255,
     "status": "ok",
     "timestamp": 1756212755033,
     "user": {
      "displayName": "Lewis Yang",
      "userId": "11249979140389061982"
     },
     "user_tz": -480
    },
    "id": "WNCCjsI6zQY5",
    "outputId": "fe4e89a3-19be-4678-a17f-d0bc1fba2912"
   },
   "outputs": [
    {
     "name": "stderr",
     "output_type": "stream",
     "text": [
      "Gym has been unmaintained since 2022 and does not support NumPy 2.0 amongst other critical functionality.\n",
      "Please upgrade to Gymnasium, the maintained drop-in replacement of Gym, or contact the authors of your software and request that they upgrade.\n",
      "See the migration guide at https://gymnasium.farama.org/introduction/migration_guide/ for additional information.\n"
     ]
    }
   ],
   "source": [
    "# 匯入numpy套件，用於數值計算與陣列處理\n",
    "import numpy as np\n",
    "\n",
    "# 從lib.envs.gridworld模組中匯入自訂的GridworldEnv類別\n",
    "# 這代表有一個自定義的「網格世界」強化學習環境，位於專案的lib/envs/gridworld.py檔案中\n",
    "from lib.envs.gridworld import GridworldEnv"
   ]
  },
  {
   "cell_type": "code",
   "execution_count": 4,
   "metadata": {},
   "outputs": [
    {
     "name": "stderr",
     "output_type": "stream",
     "text": [
      "C:\\Users\\hankc\\AppData\\Local\\Temp\\ipykernel_11212\\585787934.py:3: FutureWarning: In the future `np.bool` will be defined as the corresponding NumPy scalar.\n",
      "  if not hasattr(np, 'bool'):\n"
     ]
    }
   ],
   "source": [
    "# 修正np.bool已被移除的問題(NumPy1.20+不再支援np.bool)\n",
    "# 如果當前NumPy沒有np.bool屬性(新版會移除)\n",
    "if not hasattr(np, 'bool'):\n",
    "    # 則將np.bool指定為內建的bool，等效於舊版的np.bool行為\n",
    "    np.bool = bool  # 等價替代，讓使用np.bool的舊程式碼能正常執行"
   ]
  },
  {
   "cell_type": "code",
   "execution_count": 5,
   "metadata": {
    "colab": {
     "base_uri": "https://localhost:8080/"
    },
    "executionInfo": {
     "elapsed": 48,
     "status": "ok",
     "timestamp": 1756212780078,
     "user": {
      "displayName": "Lewis Yang",
      "userId": "11249979140389061982"
     },
     "user_tz": -480
    },
    "id": "SEbTmDSWzQY7",
    "outputId": "dcc0b838-f315-4815-dd71-47e1bc25b446"
   },
   "outputs": [
    {
     "name": "stderr",
     "output_type": "stream",
     "text": [
      "c:\\Users\\hankc\\anaconda3\\Lib\\site-packages\\gym\\utils\\seeding.py:41: DeprecationWarning: \u001b[33mWARN: Function `rng.rand(*size)` is marked as deprecated and will be removed in the future. Please use `Generator.random(size)` instead.\u001b[0m\n",
      "  deprecation(\n"
     ]
    }
   ],
   "source": [
    "# 建立一個GridWorld強化學習環境實例\n",
    "env = GridworldEnv()\n",
    "\n",
    "# 動作對應的數值編碼(Action Encoding)：\n",
    "# 在強化學習環境中，每個數字代表智能體(Agent)的一個移動方向\n",
    "\n",
    "# UP = 0     # 向上移動，代表智能體往上方的格子前進\n",
    "# RIGHT = 1  # 向右移動，代表智能體往右方的格子前進\n",
    "# DOWN = 2   # 向下移動，代表智能體往下方的格子前進\n",
    "# LEFT = 3   # 向左移動，代表智能體往左方的格子前進"
   ]
  },
  {
   "cell_type": "markdown",
   "metadata": {
    "id": "nB0YNQYozQY8"
   },
   "source": [
    "## 策略評估函數"
   ]
  },
  {
   "cell_type": "code",
   "execution_count": 6,
   "metadata": {
    "executionInfo": {
     "elapsed": 21,
     "status": "ok",
     "timestamp": 1756213120771,
     "user": {
      "displayName": "Lewis Yang",
      "userId": "11249979140389061982"
     },
     "user_tz": -480
    },
    "id": "f574Yxd3zQY8"
   },
   "outputs": [],
   "source": [
    "# 定義一個策略評估(Policy Evaluation)函式\n",
    "# 用來在給定策略下，計算每個狀態的狀態價值(Value Function V)\n",
    "# 此版本會根據設定的收斂門檻theta自動停止\n",
    "def policy_eval(policy, env, discount_factor = 1.0, theta = 0.00001):\n",
    "\n",
    "    # 初始化狀態值函數V為全0，大小等於環境的狀態數env.nS\n",
    "    V = np.zeros(env.nS)\n",
    "\n",
    "    # 建立一個V的複製版本，用來暫存每次更新後的值\n",
    "    V1 = np.copy(V)\n",
    "\n",
    "    # 持續迭代直到狀態值函數的變化小於設定的門檻theta\n",
    "    while True:\n",
    "        # 每次迭代開始時，將最大差異(delta)初始化為0\n",
    "        delta = 0\n",
    "\n",
    "        # 遍歷每一個狀態s\n",
    "        for s in range(env.nS):\n",
    "            # 用來暫存狀態s的新價值\n",
    "            v = 0\n",
    "\n",
    "            # 遍歷所有動作a及其在該狀態下的選擇機率action_prob\n",
    "            for a, action_prob in enumerate(policy[s]):\n",
    "                # 遍歷在狀態s執行動作a的所有可能轉移(由環境模型env.P提供)\n",
    "                for prob, next_state, reward, done in env.P[s][a]:\n",
    "                    # 套用貝爾曼期望方程式計算狀態價值：\n",
    "                    # v += 該動作機率 × 轉移機率 × [即時獎勵 + 折扣後的下一狀態價值]\n",
    "                    v += action_prob * prob * (reward + discount_factor * V[next_state])\n",
    "\n",
    "            # 更新最大差異(delta)，用來檢查是否收斂\n",
    "            delta = max(delta, np.abs(v - V[s]))\n",
    "\n",
    "            # 將計算得到的v更新到對應狀態的暫存V1中\n",
    "            V1[s] = v\n",
    "\n",
    "        # 將更新完的V1複製回V，準備下一次迭代\n",
    "        V = np.copy(V1)\n",
    "\n",
    "        # 若最大變動量(delta)小於門檻theta，表示已收斂，停止迴圈\n",
    "        if delta < theta:\n",
    "            break\n",
    "\n",
    "    # 所有迭代完成後，傳回狀態值函數V的最終結果\n",
    "    return np.array(V)"
   ]
  },
  {
   "cell_type": "markdown",
   "metadata": {
    "id": "MqHoe3TKzQY8"
   },
   "source": [
    "## 策略改善函數"
   ]
  },
  {
   "cell_type": "code",
   "execution_count": 7,
   "metadata": {
    "executionInfo": {
     "elapsed": 9,
     "status": "ok",
     "timestamp": 1756213121594,
     "user": {
      "displayName": "Lewis Yang",
      "userId": "11249979140389061982"
     },
     "user_tz": -480
    },
    "id": "QoZyApJTzQY9"
   },
   "outputs": [],
   "source": [
    "# 定義一個策略改進(Policy Improvement)函式\n",
    "# 用來不斷優化給定的初始策略，直到找到最穩定的最優策略\n",
    "# 此函式會搭配策略評估函式(policy_eval_fn)來進行策略疊代\n",
    "def policy_improvement(env, policy_eval_fn = policy_eval, discount_factor = 1.0, max_iterations = 100, theta = 0.1):\n",
    "\n",
    "    # 定義一個一步前瞻(one-step lookahead)函式\n",
    "    # 計算給定狀態s下，每個行動a對應的行動值(Action-Value)\n",
    "    def one_step_lookahead(state, V):\n",
    "        # 初始化每個動作的價值為0\n",
    "        A = np.zeros(env.nA)\n",
    "\n",
    "        # 遍歷所有動作a\n",
    "        for a in range(env.nA):\n",
    "            # 根據環境模型，計算該動作a的期望回報\n",
    "            for prob, next_state, reward, done in env.P[state][a]:\n",
    "                # 行動值Q(s, a) = Σ[P(s'|s, a) * (r + γ * V(s'))]\n",
    "                A[a] += prob * (reward + discount_factor * V[next_state])\n",
    "        return A\n",
    "\n",
    "    # 初始化策略為均勻隨機策略：每個狀態均勻選擇所有動作\n",
    "    policy = np.ones([env.nS, env.nA]) / env.nA\n",
    "\n",
    "    # 不斷進行策略改進，直到策略收斂為止或超過最大迭代次數\n",
    "    for _ in range(max_iterations):\n",
    "        # 進行策略評估：計算在當前策略下每個狀態的狀態價值函數V\n",
    "        V = policy_eval_fn(policy, env, discount_factor, theta)\n",
    "\n",
    "        # 設定策略穩定標誌為True(若發現更好的策略會設為False)\n",
    "        policy_stable = True\n",
    "\n",
    "        # 遍歷每一個狀態\n",
    "        for s in range(env.nS):\n",
    "            # 記錄當前策略在該狀態下選擇的行動\n",
    "            chosen_a = np.argmax(policy[s])\n",
    "\n",
    "            # 計算該狀態下，每個可能動作的行動值\n",
    "            action_values = one_step_lookahead(s, V)\n",
    "\n",
    "            # 選擇價值最大的動作(即貪婪策略)\n",
    "            best_a = np.argmax(action_values)\n",
    "\n",
    "            # 若新的最佳動作與原策略不同，則策略不穩定\n",
    "            if chosen_a != best_a:\n",
    "                policy_stable = False\n",
    "\n",
    "            # 更新策略：只保留最佳動作(其他機率為0)\n",
    "            policy[s] = np.eye(env.nA)[best_a]\n",
    "\n",
    "        # 若策略穩定(沒有任何狀態的策略發生變動)，則結束迴圈並傳回結果\n",
    "        if policy_stable:\n",
    "            break\n",
    "\n",
    "    # 傳回最優策略與最終的狀態值函數\n",
    "    return policy, V"
   ]
  },
  {
   "cell_type": "code",
   "execution_count": 8,
   "metadata": {
    "colab": {
     "base_uri": "https://localhost:8080/"
    },
    "executionInfo": {
     "elapsed": 37,
     "status": "ok",
     "timestamp": 1756213125106,
     "user": {
      "displayName": "Lewis Yang",
      "userId": "11249979140389061982"
     },
     "user_tz": -480
    },
    "id": "tphoOQ5HzQY9",
    "outputId": "7c49607c-e734-4f9f-ac87-f705f81b816f"
   },
   "outputs": [],
   "source": [
    "# 執行策略循環(Policy Iteration)演算法\n",
    "# 呼叫前面定義的policy_improvement函式，傳入環境env\n",
    "# 傳回最終的最優策略policy以及對應的狀態價值函數v\n",
    "policy, v = policy_improvement(env)"
   ]
  },
  {
   "cell_type": "code",
   "execution_count": 9,
   "metadata": {
    "colab": {
     "base_uri": "https://localhost:8080/"
    },
    "executionInfo": {
     "elapsed": 9,
     "status": "ok",
     "timestamp": 1756213134268,
     "user": {
      "displayName": "Lewis Yang",
      "userId": "11249979140389061982"
     },
     "user_tz": -480
    },
    "id": "_8R-Fo0ezQY-",
    "outputId": "9ce9e729-4862-48bd-825d-cd92e44e1752"
   },
   "outputs": [
    {
     "name": "stdout",
     "output_type": "stream",
     "text": [
      "策略機率分配:\n",
      "[[1. 0. 0. 0.]\n",
      " [0. 0. 0. 1.]\n",
      " [0. 0. 0. 1.]\n",
      " [0. 0. 1. 0.]\n",
      " [1. 0. 0. 0.]\n",
      " [1. 0. 0. 0.]\n",
      " [1. 0. 0. 0.]\n",
      " [0. 0. 1. 0.]\n",
      " [1. 0. 0. 0.]\n",
      " [1. 0. 0. 0.]\n",
      " [0. 1. 0. 0.]\n",
      " [0. 0. 1. 0.]\n",
      " [1. 0. 0. 0.]\n",
      " [0. 1. 0. 0.]\n",
      " [0. 1. 0. 0.]\n",
      " [1. 0. 0. 0.]]\n",
      "\n",
      "\n",
      "4x4 策略機率分配(0 = up, 1 = right, 2 = down, 3 = left):\n",
      "[[0 3 3 2]\n",
      " [0 0 0 2]\n",
      " [0 0 1 2]\n",
      " [0 1 1 0]]\n",
      "\n",
      "\n",
      "4x4 狀態值函數:\n",
      "[[ 0. -1. -2. -3.]\n",
      " [-1. -2. -3. -2.]\n",
      " [-2. -3. -2. -1.]\n",
      " [-3. -2. -1.  0.]]\n",
      "\n",
      "\n"
     ]
    }
   ],
   "source": [
    "# 顯示最終策略的機率分配(每個狀態對每個動作的選擇機率)\n",
    "print(\"策略機率分配:\")\n",
    "print(policy)\n",
    "print(\"\\n\")\n",
    "\n",
    "# 顯示每個狀態下選擇機率最高的動作(即最優策略)\n",
    "# 將一維動作索引轉成4x4矩陣的形式(對應FrozenLake的地圖)\n",
    "# 動作代號：0 = ↑(up), 1 = →(right), 2 = ↓(down), 3 = ←(left)\n",
    "\n",
    "print(\"4x4 策略機率分配(0 = up, 1 = right, 2 = down, 3 = left):\")\n",
    "print(np.reshape(np.argmax(policy, axis = 1), env.shape))\n",
    "print(\"\\n\")\n",
    "\n",
    "# 顯示最終狀態值函數(每個格子狀態的預期累積報酬)\n",
    "# 將一維的狀態值向量v轉成4x4矩陣的形式以對應地圖視覺結構\n",
    "print(\"4x4 狀態值函數:\")\n",
    "print(v.reshape(env.shape))\n",
    "print(\"\\n\")"
   ]
  },
  {
   "cell_type": "code",
   "execution_count": 10,
   "metadata": {
    "colab": {
     "base_uri": "https://localhost:8080/"
    },
    "executionInfo": {
     "elapsed": 20,
     "status": "ok",
     "timestamp": 1756213167302,
     "user": {
      "displayName": "Lewis Yang",
      "userId": "11249979140389061982"
     },
     "user_tz": -480
    },
    "id": "qiyxuoA7zQY_",
    "outputId": "2aff61b9-c162-41ab-cfc5-6c10c5536915"
   },
   "outputs": [],
   "source": [
    "# 驗證計算出的狀態值函數v是否與預期結果expected_v接近(小數點後2位)\n",
    "expected_v = np.array([0, -1, -2, -3, -1, -2, -3, -2, -2, -3, -2, -1, -3, -2, -1, 0])\n",
    "np.testing.assert_array_almost_equal(v, expected_v, decimal = 2)"
   ]
  },
  {
   "cell_type": "markdown",
   "metadata": {
    "id": "3bFPmOuAzQZA"
   },
   "source": [
    "## Windy Grid World 迷宮測試"
   ]
  },
  {
   "cell_type": "code",
   "execution_count": 11,
   "metadata": {
    "colab": {
     "base_uri": "https://localhost:8080/"
    },
    "executionInfo": {
     "elapsed": 15,
     "status": "ok",
     "timestamp": 1756213192169,
     "user": {
      "displayName": "Lewis Yang",
      "userId": "11249979140389061982"
     },
     "user_tz": -480
    },
    "id": "X17SUeHOzQZA",
    "outputId": "cf542c20-c8ee-439e-c5e8-08e32cf990a2"
   },
   "outputs": [],
   "source": [
    "# 匯入不同的強化學習環境模組(需事先安裝或從OpenAI Gym擴充)\n",
    "from lib.envs.windy_gridworld import WindyGridworldEnv  # 風之格子世界\n",
    "from lib.envs.cliff_walking import CliffWalkingEnv      # 懸崖走路環境\n",
    "from lib.envs.gridworld import GridworldEnv             # 基本格子世界環境\n",
    "\n",
    "# 初始化環境：這裡使用的是CliffWalking(懸崖走路)環境\n",
    "# 起點在左下角，終點在右下角，中間的懸崖會導致掉落並受到負獎勵\n",
    "env = CliffWalkingEnv()"
   ]
  },
  {
   "cell_type": "code",
   "execution_count": 12,
   "metadata": {
    "id": "LjO28d75zQZB"
   },
   "outputs": [
    {
     "data": {
      "text/plain": [
       "{0: {0: [(1.0, 0, -1.0, False)],\n",
       "  1: [(1.0, 1, -1.0, False)],\n",
       "  2: [(1.0, 12, -1.0, False)],\n",
       "  3: [(1.0, 0, -1.0, False)]},\n",
       " 1: {0: [(1.0, 1, -1.0, False)],\n",
       "  1: [(1.0, 2, -1.0, False)],\n",
       "  2: [(1.0, 13, -1.0, False)],\n",
       "  3: [(1.0, 0, -1.0, False)]},\n",
       " 2: {0: [(1.0, 2, -1.0, False)],\n",
       "  1: [(1.0, 3, -1.0, False)],\n",
       "  2: [(1.0, 14, -1.0, False)],\n",
       "  3: [(1.0, 1, -1.0, False)]},\n",
       " 3: {0: [(1.0, 3, -1.0, False)],\n",
       "  1: [(1.0, 4, -1.0, False)],\n",
       "  2: [(1.0, 15, -1.0, False)],\n",
       "  3: [(1.0, 2, -1.0, False)]},\n",
       " 4: {0: [(1.0, 4, -1.0, False)],\n",
       "  1: [(1.0, 5, -1.0, False)],\n",
       "  2: [(1.0, 16, -1.0, False)],\n",
       "  3: [(1.0, 3, -1.0, False)]},\n",
       " 5: {0: [(1.0, 5, -1.0, False)],\n",
       "  1: [(1.0, 6, -1.0, False)],\n",
       "  2: [(1.0, 17, -1.0, False)],\n",
       "  3: [(1.0, 4, -1.0, False)]},\n",
       " 6: {0: [(1.0, 6, -1.0, False)],\n",
       "  1: [(1.0, 7, -1.0, False)],\n",
       "  2: [(1.0, 18, -1.0, False)],\n",
       "  3: [(1.0, 5, -1.0, False)]},\n",
       " 7: {0: [(1.0, 7, -1.0, False)],\n",
       "  1: [(1.0, 8, -1.0, False)],\n",
       "  2: [(1.0, 19, -1.0, False)],\n",
       "  3: [(1.0, 6, -1.0, False)]},\n",
       " 8: {0: [(1.0, 8, -1.0, False)],\n",
       "  1: [(1.0, 9, -1.0, False)],\n",
       "  2: [(1.0, 20, -1.0, False)],\n",
       "  3: [(1.0, 7, -1.0, False)]},\n",
       " 9: {0: [(1.0, 9, -1.0, False)],\n",
       "  1: [(1.0, 10, -1.0, False)],\n",
       "  2: [(1.0, 21, -1.0, False)],\n",
       "  3: [(1.0, 8, -1.0, False)]},\n",
       " 10: {0: [(1.0, 10, -1.0, False)],\n",
       "  1: [(1.0, 11, -1.0, False)],\n",
       "  2: [(1.0, 22, -1.0, False)],\n",
       "  3: [(1.0, 9, -1.0, False)]},\n",
       " 11: {0: [(1.0, 11, -1.0, False)],\n",
       "  1: [(1.0, 11, -1.0, False)],\n",
       "  2: [(1.0, 23, -1.0, False)],\n",
       "  3: [(1.0, 10, -1.0, False)]},\n",
       " 12: {0: [(1.0, 0, -1.0, False)],\n",
       "  1: [(1.0, 13, -1.0, False)],\n",
       "  2: [(1.0, 24, -1.0, False)],\n",
       "  3: [(1.0, 12, -1.0, False)]},\n",
       " 13: {0: [(1.0, 1, -1.0, False)],\n",
       "  1: [(1.0, 14, -1.0, False)],\n",
       "  2: [(1.0, 25, -1.0, False)],\n",
       "  3: [(1.0, 12, -1.0, False)]},\n",
       " 14: {0: [(1.0, 2, -1.0, False)],\n",
       "  1: [(1.0, 15, -1.0, False)],\n",
       "  2: [(1.0, 26, -1.0, False)],\n",
       "  3: [(1.0, 13, -1.0, False)]},\n",
       " 15: {0: [(1.0, 3, -1.0, False)],\n",
       "  1: [(1.0, 16, -1.0, False)],\n",
       "  2: [(1.0, 27, -1.0, False)],\n",
       "  3: [(1.0, 14, -1.0, False)]},\n",
       " 16: {0: [(1.0, 4, -1.0, False)],\n",
       "  1: [(1.0, 17, -1.0, False)],\n",
       "  2: [(1.0, 28, -1.0, False)],\n",
       "  3: [(1.0, 15, -1.0, False)]},\n",
       " 17: {0: [(1.0, 5, -1.0, False)],\n",
       "  1: [(1.0, 18, -1.0, False)],\n",
       "  2: [(1.0, 29, -1.0, False)],\n",
       "  3: [(1.0, 16, -1.0, False)]},\n",
       " 18: {0: [(1.0, 6, -1.0, False)],\n",
       "  1: [(1.0, 19, -1.0, False)],\n",
       "  2: [(1.0, 30, -1.0, False)],\n",
       "  3: [(1.0, 17, -1.0, False)]},\n",
       " 19: {0: [(1.0, 7, -1.0, False)],\n",
       "  1: [(1.0, 20, -1.0, False)],\n",
       "  2: [(1.0, 31, -1.0, False)],\n",
       "  3: [(1.0, 18, -1.0, False)]},\n",
       " 20: {0: [(1.0, 8, -1.0, False)],\n",
       "  1: [(1.0, 21, -1.0, False)],\n",
       "  2: [(1.0, 32, -1.0, False)],\n",
       "  3: [(1.0, 19, -1.0, False)]},\n",
       " 21: {0: [(1.0, 9, -1.0, False)],\n",
       "  1: [(1.0, 22, -1.0, False)],\n",
       "  2: [(1.0, 33, -1.0, False)],\n",
       "  3: [(1.0, 20, -1.0, False)]},\n",
       " 22: {0: [(1.0, 10, -1.0, False)],\n",
       "  1: [(1.0, 23, -1.0, False)],\n",
       "  2: [(1.0, 34, -1.0, False)],\n",
       "  3: [(1.0, 21, -1.0, False)]},\n",
       " 23: {0: [(1.0, 11, -1.0, False)],\n",
       "  1: [(1.0, 23, -1.0, False)],\n",
       "  2: [(1.0, 35, -1.0, False)],\n",
       "  3: [(1.0, 22, -1.0, False)]},\n",
       " 24: {0: [(1.0, 12, -1.0, False)],\n",
       "  1: [(1.0, 25, -1.0, False)],\n",
       "  2: [(1.0, 36, -1.0, False)],\n",
       "  3: [(1.0, 24, -1.0, False)]},\n",
       " 25: {0: [(1.0, 13, -1.0, False)],\n",
       "  1: [(1.0, 26, -1.0, False)],\n",
       "  2: [(1.0, 37, -100.0, True)],\n",
       "  3: [(1.0, 24, -1.0, False)]},\n",
       " 26: {0: [(1.0, 14, -1.0, False)],\n",
       "  1: [(1.0, 27, -1.0, False)],\n",
       "  2: [(1.0, 38, -100.0, True)],\n",
       "  3: [(1.0, 25, -1.0, False)]},\n",
       " 27: {0: [(1.0, 15, -1.0, False)],\n",
       "  1: [(1.0, 28, -1.0, False)],\n",
       "  2: [(1.0, 39, -100.0, True)],\n",
       "  3: [(1.0, 26, -1.0, False)]},\n",
       " 28: {0: [(1.0, 16, -1.0, False)],\n",
       "  1: [(1.0, 29, -1.0, False)],\n",
       "  2: [(1.0, 40, -100.0, True)],\n",
       "  3: [(1.0, 27, -1.0, False)]},\n",
       " 29: {0: [(1.0, 17, -1.0, False)],\n",
       "  1: [(1.0, 30, -1.0, False)],\n",
       "  2: [(1.0, 41, -100.0, True)],\n",
       "  3: [(1.0, 28, -1.0, False)]},\n",
       " 30: {0: [(1.0, 18, -1.0, False)],\n",
       "  1: [(1.0, 31, -1.0, False)],\n",
       "  2: [(1.0, 42, -100.0, True)],\n",
       "  3: [(1.0, 29, -1.0, False)]},\n",
       " 31: {0: [(1.0, 19, -1.0, False)],\n",
       "  1: [(1.0, 32, -1.0, False)],\n",
       "  2: [(1.0, 43, -100.0, True)],\n",
       "  3: [(1.0, 30, -1.0, False)]},\n",
       " 32: {0: [(1.0, 20, -1.0, False)],\n",
       "  1: [(1.0, 33, -1.0, False)],\n",
       "  2: [(1.0, 44, -100.0, True)],\n",
       "  3: [(1.0, 31, -1.0, False)]},\n",
       " 33: {0: [(1.0, 21, -1.0, False)],\n",
       "  1: [(1.0, 34, -1.0, False)],\n",
       "  2: [(1.0, 45, -100.0, True)],\n",
       "  3: [(1.0, 32, -1.0, False)]},\n",
       " 34: {0: [(1.0, 22, -1.0, False)],\n",
       "  1: [(1.0, 35, -1.0, False)],\n",
       "  2: [(1.0, 46, -100.0, True)],\n",
       "  3: [(1.0, 33, -1.0, False)]},\n",
       " 35: {0: [(1.0, 23, -1.0, False)],\n",
       "  1: [(1.0, 35, -1.0, False)],\n",
       "  2: [(1.0, 47, -1.0, True)],\n",
       "  3: [(1.0, 34, -1.0, False)]},\n",
       " 36: {0: [(1.0, 24, -1.0, False)],\n",
       "  1: [(1.0, 37, -100.0, True)],\n",
       "  2: [(1.0, 36, -1.0, False)],\n",
       "  3: [(1.0, 36, -1.0, False)]},\n",
       " 37: {0: [(1.0, 25, -1.0, False)],\n",
       "  1: [(1.0, 38, -100.0, True)],\n",
       "  2: [(1.0, 37, -100.0, True)],\n",
       "  3: [(1.0, 36, -1.0, False)]},\n",
       " 38: {0: [(1.0, 26, -1.0, False)],\n",
       "  1: [(1.0, 39, -100.0, True)],\n",
       "  2: [(1.0, 38, -100.0, True)],\n",
       "  3: [(1.0, 37, -100.0, True)]},\n",
       " 39: {0: [(1.0, 27, -1.0, False)],\n",
       "  1: [(1.0, 40, -100.0, True)],\n",
       "  2: [(1.0, 39, -100.0, True)],\n",
       "  3: [(1.0, 38, -100.0, True)]},\n",
       " 40: {0: [(1.0, 28, -1.0, False)],\n",
       "  1: [(1.0, 41, -100.0, True)],\n",
       "  2: [(1.0, 40, -100.0, True)],\n",
       "  3: [(1.0, 39, -100.0, True)]},\n",
       " 41: {0: [(1.0, 29, -1.0, False)],\n",
       "  1: [(1.0, 42, -100.0, True)],\n",
       "  2: [(1.0, 41, -100.0, True)],\n",
       "  3: [(1.0, 40, -100.0, True)]},\n",
       " 42: {0: [(1.0, 30, -1.0, False)],\n",
       "  1: [(1.0, 43, -100.0, True)],\n",
       "  2: [(1.0, 42, -100.0, True)],\n",
       "  3: [(1.0, 41, -100.0, True)]},\n",
       " 43: {0: [(1.0, 31, -1.0, False)],\n",
       "  1: [(1.0, 44, -100.0, True)],\n",
       "  2: [(1.0, 43, -100.0, True)],\n",
       "  3: [(1.0, 42, -100.0, True)]},\n",
       " 44: {0: [(1.0, 32, -1.0, False)],\n",
       "  1: [(1.0, 45, -100.0, True)],\n",
       "  2: [(1.0, 44, -100.0, True)],\n",
       "  3: [(1.0, 43, -100.0, True)]},\n",
       " 45: {0: [(1.0, 33, -1.0, False)],\n",
       "  1: [(1.0, 46, -100.0, True)],\n",
       "  2: [(1.0, 45, -100.0, True)],\n",
       "  3: [(1.0, 44, -100.0, True)]},\n",
       " 46: {0: [(1.0, 34, -1.0, False)],\n",
       "  1: [(1.0, 47, -1.0, True)],\n",
       "  2: [(1.0, 46, -100.0, True)],\n",
       "  3: [(1.0, 45, -100.0, True)]},\n",
       " 47: {0: [(1.0, 35, -1.0, False)],\n",
       "  1: [(1.0, 47, -1.0, True)],\n",
       "  2: [(1.0, 47, -1.0, True)],\n",
       "  3: [(1.0, 46, -100.0, True)]}}"
      ]
     },
     "execution_count": 12,
     "metadata": {},
     "output_type": "execute_result"
    }
   ],
   "source": [
    "# 查看GridWorld環境的轉移模型P\n",
    "# P是一個嵌套字典，描述在每個狀態執行某個動作後，可能轉移到哪些狀態、機率是多少、是否結束等資訊\n",
    "# 用於實作動態規劃演算法，如：策略評估、策略改進、值迭代、策略迭代等\n",
    "env.P"
   ]
  },
  {
   "cell_type": "code",
   "execution_count": 13,
   "metadata": {
    "colab": {
     "base_uri": "https://localhost:8080/"
    },
    "executionInfo": {
     "elapsed": 36,
     "status": "ok",
     "timestamp": 1756213198664,
     "user": {
      "displayName": "Lewis Yang",
      "userId": "11249979140389061982"
     },
     "user_tz": -480
    },
    "id": "d7nkr1gPzQZC",
    "outputId": "fc07765a-7aca-4bf3-cdb0-cc3364ec4a20"
   },
   "outputs": [
    {
     "name": "stdout",
     "output_type": "stream",
     "text": [
      "狀態值函數:\n",
      "[[ -722.51615437  -744.75221796  -776.81661995  -807.75063697\n",
      "   -830.96046916  -843.19413687  -843.19413687  -830.96046916]\n",
      " [ -807.75063697  -776.81661995  -744.75221796  -722.51615437\n",
      "   -781.4158988   -816.39931357  -860.01078979  -898.21777004]\n",
      " [ -925.26784418  -939.09855251  -939.09855251  -925.26784418\n",
      "   -898.21777004  -860.01078979  -816.39931357  -781.4158988 ]\n",
      " [ -886.52414133  -960.9501504  -1030.72960917 -1082.6416538\n",
      "  -1116.18269185 -1132.56158456 -1132.56158456 -1116.18269185]\n",
      " [-1082.6416538  -1030.72960917  -960.9501504   -886.52414133\n",
      "   -998.47773191 -1092.75878447 -1202.5160867  -1269.31647918]\n",
      " [-1308.72852841 -1327.21215404 -1327.21215404 -1308.72852841\n",
      "  -1269.31647918 -1202.5160867  -1092.75878447  -998.47773191]]\n"
     ]
    }
   ],
   "source": [
    "# 隨機策略，機率均等：在每個狀態下，對每個動作(action)賦予相同的機率\n",
    "# np.ones([env.nS, env.nA])創建一個大小為[狀態數量, 動作數量]的矩陣，並將所有值設為1\n",
    "# 然後除以動作數量(env.nA)，使得每個動作的機率均等\n",
    "random_policy = np.ones([env.nS, env.nA]) / env.nA\n",
    "\n",
    "# 評估隨機策略：計算該隨機策略下每個狀態的狀態價值函數(V)\n",
    "# theta = 22是收斂條件，設定最大變動量的容忍誤差(這裡設定為22較大，可以根據需要調整)\n",
    "v = policy_eval(random_policy, env, theta = 22)\n",
    "\n",
    "# 輸出狀態值函數：顯示該隨機策略下的狀態價值函數(V)\n",
    "# 假設環境的狀態空間是6x8的網格，使用v.reshape()方法將一維向量轉為6x8的格狀顯示方式\n",
    "print(\"狀態值函數:\")\n",
    "print(v.reshape((6, 8)))"
   ]
  },
  {
   "cell_type": "code",
   "execution_count": 14,
   "metadata": {
    "colab": {
     "base_uri": "https://localhost:8080/",
     "height": 686
    },
    "executionInfo": {
     "elapsed": 17,
     "status": "error",
     "timestamp": 1756213228087,
     "user": {
      "displayName": "Lewis Yang",
      "userId": "11249979140389061982"
     },
     "user_tz": -480
    },
    "id": "3XMdnBr5zQZC",
    "outputId": "81ff83a3-5b69-4e2d-ab28-2a3e6fae1ddf"
   },
   "outputs": [
    {
     "name": "stdout",
     "output_type": "stream",
     "text": [
      "策略機率分配:\n",
      "[[1. 0. 0. 0.]\n",
      " [0. 0. 0. 1.]\n",
      " [0. 0. 0. 1.]\n",
      " [0. 0. 1. 0.]\n",
      " [1. 0. 0. 0.]\n",
      " [1. 0. 0. 0.]\n",
      " [1. 0. 0. 0.]\n",
      " [0. 0. 1. 0.]\n",
      " [1. 0. 0. 0.]\n",
      " [1. 0. 0. 0.]\n",
      " [0. 1. 0. 0.]\n",
      " [0. 0. 1. 0.]\n",
      " [1. 0. 0. 0.]\n",
      " [0. 1. 0. 0.]\n",
      " [0. 1. 0. 0.]\n",
      " [1. 0. 0. 0.]]\n",
      "\n",
      "狀態值函數:\n",
      "[[ -722.51615437  -744.75221796  -776.81661995  -807.75063697\n",
      "   -830.96046916  -843.19413687  -843.19413687  -830.96046916]\n",
      " [ -807.75063697  -776.81661995  -744.75221796  -722.51615437\n",
      "   -781.4158988   -816.39931357  -860.01078979  -898.21777004]\n",
      " [ -925.26784418  -939.09855251  -939.09855251  -925.26784418\n",
      "   -898.21777004  -860.01078979  -816.39931357  -781.4158988 ]\n",
      " [ -886.52414133  -960.9501504  -1030.72960917 -1082.6416538\n",
      "  -1116.18269185 -1132.56158456 -1132.56158456 -1116.18269185]\n",
      " [-1082.6416538  -1030.72960917  -960.9501504   -886.52414133\n",
      "   -998.47773191 -1092.75878447 -1202.5160867  -1269.31647918]\n",
      " [-1308.72852841 -1327.21215404 -1327.21215404 -1308.72852841\n",
      "  -1269.31647918 -1202.5160867  -1092.75878447  -998.47773191]]\n"
     ]
    }
   ],
   "source": [
    "# 顯示最終策略的機率分配(每個狀態對每個動作的選擇機率)\n",
    "print(\"策略機率分配:\")\n",
    "print(policy)\n",
    "print(\"\")\n",
    "\n",
    "# 輸出狀態值函數：顯示該隨機策略下的狀態價值函數(V)\n",
    "# 假設環境的狀態空間是6x8的網格，使用v.reshape()方法將一維向量轉為6x8的格狀顯示方式\n",
    "print(\"狀態值函數:\")\n",
    "print(v.reshape((6, 8)))"
   ]
  }
 ],
 "metadata": {
  "colab": {
   "provenance": []
  },
  "kernelspec": {
   "display_name": "base",
   "language": "python",
   "name": "python3"
  },
  "language_info": {
   "codemirror_mode": {
    "name": "ipython",
    "version": 3
   },
   "file_extension": ".py",
   "mimetype": "text/x-python",
   "name": "python",
   "nbconvert_exporter": "python",
   "pygments_lexer": "ipython3",
   "version": "3.12.3"
  }
 },
 "nbformat": 4,
 "nbformat_minor": 0
}
