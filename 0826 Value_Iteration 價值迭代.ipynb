{
 "cells": [
  {
   "cell_type": "markdown",
   "metadata": {
    "id": "OtmyUIJIzhOs"
   },
   "source": [
    "# Grid World迷宮之值循環(Value Iteration)"
   ]
  },
  {
   "cell_type": "code",
   "execution_count": 1,
   "metadata": {},
   "outputs": [
    {
     "data": {
      "image/png": "[encoded data removed]",
      "text/plain": [
       "<IPython.core.display.Image object>"
      ]
     },
     "execution_count": 1,
     "metadata": {},
     "output_type": "execute_result"
    }
   ],
   "source": [
    "# 從IPython.display模組匯入Image類別，用來在Jupyter Notebook中顯示圖片\n",
    "from IPython.display import Image\n",
    "\n",
    "# 載入並顯示位於當前目錄中的grid_world.png圖片\n",
    "Image('./grid_world.png')"
   ]
  },
  {
   "cell_type": "code",
   "execution_count": 2,
   "metadata": {
    "executionInfo": {
     "elapsed": 115,
     "status": "ok",
     "timestamp": 1756213306568,
     "user": {
      "displayName": "Lewis Yang",
      "userId": "11249979140389061982"
     },
     "user_tz": -480
    },
    "id": "obI26rXNzogR"
   },
   "outputs": [
    {
     "name": "stdout",
     "output_type": "stream",
     "text": [
      "lib/__init__.py\n",
      "lib/__pycache__/\n",
      "lib/__pycache__/__init__.cpython-38.pyc\n",
      "lib/__pycache__/__init__.cpython-39.pyc\n",
      "lib/__pycache__/plotting.cpython-38.pyc\n",
      "lib/__pycache__/plotting.cpython-39.pyc\n",
      "lib/atari/\n",
      "lib/atari/__init__.py\n",
      "lib/atari/helpers.py\n",
      "lib/atari/state_processor.py\n",
      "lib/envs/\n",
      "lib/envs/.ipynb_checkpoints/\n",
      "lib/envs/.ipynb_checkpoints/gridworld-checkpoint.py\n",
      "lib/envs/__init__.py\n",
      "lib/envs/__pycache__/\n",
      "lib/envs/__pycache__/__init__.cpython-36.pyc\n",
      "lib/envs/__pycache__/__init__.cpython-38.pyc\n",
      "lib/envs/__pycache__/__init__.cpython-39.pyc\n",
      "lib/envs/__pycache__/blackjack.cpython-38.pyc\n",
      "lib/envs/__pycache__/blackjack.cpython-39.pyc\n",
      "lib/envs/__pycache__/cliff_walking.cpython-36.pyc\n",
      "lib/envs/__pycache__/cliff_walking.cpython-38.pyc\n",
      "lib/envs/__pycache__/cliff_walking.cpython-39.pyc\n",
      "lib/envs/__pycache__/discrete.cpython-38.pyc\n",
      "lib/envs/__pycache__/discrete.cpython-39.pyc\n",
      "lib/envs/__pycache__/gridworld.cpython-38.pyc\n",
      "lib/envs/__pycache__/gridworld.cpython-39.pyc\n",
      "lib/envs/__pycache__/gridworld0.cpython-39.pyc\n",
      "lib/envs/__pycache__/windy_gridworld.cpython-38.pyc\n",
      "lib/envs/__pycache__/windy_gridworld.cpython-39.pyc\n",
      "lib/envs/blackjack.py\n",
      "lib/envs/cliff_walking.py\n",
      "lib/envs/discrete.py\n",
      "lib/envs/gridworld.py\n",
      "lib/envs/windy_gridworld.py\n",
      "lib/plotting.py\n"
     ]
    }
   ],
   "source": [
    "# 匯入zipfile模組，用來處理.zip壓縮檔案\n",
    "import zipfile\n",
    "\n",
    "# 使用with敘述開啟lib.zip壓縮檔案，確保使用完自動關閉\n",
    "with zipfile.ZipFile(\"lib.zip\") as zf:\n",
    "    # 使用infolist()取得壓縮檔中所有檔案的資訊(ZipInfo物件)\n",
    "    for info in zf.infolist():\n",
    "    \n",
    "        # 因為某些zip壓縮檔的檔名是以cp437編碼(特別是從Windows系統壓縮的)\n",
    "        # 所以這裡先將原本的檔名(字串)用cp437編碼為bytes，再用utf-8解碼為正確的字串\n",
    "        # 這樣可以正確顯示中文或特殊字元的檔名\n",
    "        print(info.filename.encode('cp437').decode('utf-8'))\n",
    "\n",
    "        # 將目前這個檔案(info)解壓縮到target_folder資料夾中\n",
    "        zf.extract(info, \"target_folder\")"
   ]
  },
  {
   "cell_type": "code",
   "execution_count": 3,
   "metadata": {
    "colab": {
     "base_uri": "https://localhost:8080/",
     "height": 35
    },
    "executionInfo": {
     "elapsed": 11,
     "status": "ok",
     "timestamp": 1756213310434,
     "user": {
      "displayName": "Lewis Yang",
      "userId": "11249979140389061982"
     },
     "user_tz": -480
    },
    "id": "4lCsmDZHnGau",
    "outputId": "27028c58-5a0f-4bed-f31a-0f5f9678bbc4"
   },
   "outputs": [
    {
     "data": {
      "text/plain": [
       "'3.12.3 | packaged by conda-forge | (main, Apr 15 2024, 18:20:11) [MSC v.1938 64 bit (AMD64)]'"
      ]
     },
     "execution_count": 3,
     "metadata": {},
     "output_type": "execute_result"
    }
   ],
   "source": [
    "# 匯入sys模組，用於與系統互動\n",
    "import sys\n",
    "\n",
    "# 顯示目前使用的Python版本資訊\n",
    "sys.version"
   ]
  },
  {
   "cell_type": "code",
   "execution_count": 4,
   "metadata": {
    "colab": {
     "base_uri": "https://localhost:8080/"
    },
    "executionInfo": {
     "elapsed": 305,
     "status": "ok",
     "timestamp": 1756213312766,
     "user": {
      "displayName": "Lewis Yang",
      "userId": "11249979140389061982"
     },
     "user_tz": -480
    },
    "id": "KWKfLS_uzhOy",
    "outputId": "0615775f-6918-421a-ba4f-efc4f23f2536"
   },
   "outputs": [
    {
     "name": "stderr",
     "output_type": "stream",
     "text": [
      "Gym has been unmaintained since 2022 and does not support NumPy 2.0 amongst other critical functionality.\n",
      "Please upgrade to Gymnasium, the maintained drop-in replacement of Gym, or contact the authors of your software and request that they upgrade.\n",
      "See the migration guide at https://gymnasium.farama.org/introduction/migration_guide/ for additional information.\n"
     ]
    }
   ],
   "source": [
    "# 匯入numpy套件，用於數值計算與陣列處理\n",
    "import numpy as np\n",
    "\n",
    "# 從lib.envs.gridworld模組中匯入自訂的GridworldEnv類別\n",
    "# 這代表有一個自定義的「網格世界」強化學習環境，位於專案的lib/envs/gridworld.py檔案中\n",
    "from lib.envs.gridworld import GridworldEnv"
   ]
  },
  {
   "cell_type": "code",
   "execution_count": 5,
   "metadata": {},
   "outputs": [
    {
     "name": "stderr",
     "output_type": "stream",
     "text": [
      "C:\\Users\\hankc\\AppData\\Local\\Temp\\ipykernel_10020\\585787934.py:3: FutureWarning: In the future `np.bool` will be defined as the corresponding NumPy scalar.\n",
      "  if not hasattr(np, 'bool'):\n"
     ]
    }
   ],
   "source": [
    "# 修正np.bool已被移除的問題(NumPy1.20+不再支援np.bool)\n",
    "# 如果當前NumPy沒有np.bool屬性(新版會移除)\n",
    "if not hasattr(np, 'bool'):\n",
    "    # 則將np.bool指定為內建的bool，等效於舊版的np.bool行為\n",
    "    np.bool = bool  # 等價替代，讓使用np.bool的舊程式碼能正常執行"
   ]
  },
  {
   "cell_type": "code",
   "execution_count": 6,
   "metadata": {
    "colab": {
     "base_uri": "https://localhost:8080/"
    },
    "executionInfo": {
     "elapsed": 24,
     "status": "ok",
     "timestamp": 1756213315043,
     "user": {
      "displayName": "Lewis Yang",
      "userId": "11249979140389061982"
     },
     "user_tz": -480
    },
    "id": "NJQrQpW2zhO0",
    "outputId": "91f1f61f-637b-43a7-907f-886763b996a8"
   },
   "outputs": [
    {
     "name": "stderr",
     "output_type": "stream",
     "text": [
      "c:\\Users\\hankc\\anaconda3\\Lib\\site-packages\\gym\\utils\\seeding.py:41: DeprecationWarning: \u001b[33mWARN: Function `rng.rand(*size)` is marked as deprecated and will be removed in the future. Please use `Generator.random(size)` instead.\u001b[0m\n",
      "  deprecation(\n"
     ]
    }
   ],
   "source": [
    "# 建立一個GridWorld強化學習環境實例\n",
    "env = GridworldEnv()\n",
    "\n",
    "# 動作對應的數值編碼(Action Encoding)：\n",
    "# 在強化學習環境中，每個數字代表智能體(Agent)的一個移動方向\n",
    "\n",
    "# UP = 0     # 向上移動，代表智能體往上方的格子前進\n",
    "# RIGHT = 1  # 向右移動，代表智能體往右方的格子前進\n",
    "# DOWN = 2   # 向下移動，代表智能體往下方的格子前進\n",
    "# LEFT = 3   # 向左移動，代表智能體往左方的格子前進"
   ]
  },
  {
   "cell_type": "code",
   "execution_count": 7,
   "metadata": {
    "executionInfo": {
     "elapsed": 10,
     "status": "ok",
     "timestamp": 1756213530033,
     "user": {
      "displayName": "Lewis Yang",
      "userId": "11249979140389061982"
     },
     "user_tz": -480
    },
    "id": "jLHJEfaZzhO1"
   },
   "outputs": [],
   "source": [
    "# 值迭代函數：使用值迭代方法來計算最優策略與狀態值函數\n",
    "def value_iteration(env, theta = 0.0001, discount_factor = 1.0):\n",
    "    times = 0  # 用來計算進行了多少次迭代\n",
    "\n",
    "    # 計算行動值函數(一步前瞻)：計算給定狀態下每個動作的行動值\n",
    "    def one_step_lookahead(state, V):\n",
    "        A = np.zeros(env.nA)  # 初始化動作價值為0\n",
    "        for a in range(env.nA):\n",
    "            # 根據環境模型，計算該動作的期望回報\n",
    "            for prob, next_state, reward, done in env.P[state][a]:\n",
    "                # 行動值Q(s, a) = Σ [P(s'|s, a) * (r + γ * V(s'))]\n",
    "                A[a] += prob * (reward + discount_factor * V[next_state])\n",
    "        return A\n",
    "\n",
    "    # 狀態值函數初始化：將每個狀態的價值初始化為0\n",
    "    V = np.zeros(env.nS)\n",
    "\n",
    "    # 開始迭代，直到所有狀態的價值收斂\n",
    "    while True:\n",
    "        times += 1\n",
    "        # 用來存儲最大變動量\n",
    "        delta = 0\n",
    "\n",
    "        # 更新每個狀態的價值\n",
    "        for s in range(env.nS):\n",
    "            # 計算該狀態下的行動值函數\n",
    "            A = one_step_lookahead(s, V)\n",
    "\n",
    "            # 取得最佳行動的價值\n",
    "            best_action_value = np.max(A)\n",
    "\n",
    "            # 計算此狀態的價值變動量\n",
    "            delta = max(delta, np.abs(best_action_value - V[s]))\n",
    "            print('delta', delta)\n",
    "\n",
    "            # 更新狀態值函數\n",
    "            V[s] = best_action_value\n",
    "\n",
    "        # 若最大變動量小於設定的收斂門檻，則停止迭代\n",
    "        if delta < theta:\n",
    "            print('最後訓練幾次', times)\n",
    "            break\n",
    "\n",
    "    # 初始化隨機策略，並將每個狀態的最佳行動設置為選擇行動\n",
    "    policy = np.zeros([env.nS, env.nA])\n",
    "    for s in range(env.nS):\n",
    "        # 計算該狀態下每個動作的行動值\n",
    "        A = one_step_lookahead(s, V)\n",
    "\n",
    "        # 選擇行動值最大的動作(即最佳行動)\n",
    "        best_action = np.argmax(A)\n",
    "\n",
    "        # 將最佳行動的機率設為1.0(選擇最佳行動)\n",
    "        policy[s, best_action] = 1.0\n",
    "\n",
    "    # 傳回最優策略與最終的狀態值函數\n",
    "    return policy, V"
   ]
  },
  {
   "cell_type": "code",
   "execution_count": 8,
   "metadata": {
    "colab": {
     "base_uri": "https://localhost:8080/"
    },
    "executionInfo": {
     "elapsed": 19,
     "status": "ok",
     "timestamp": 1756213533053,
     "user": {
      "displayName": "Lewis Yang",
      "userId": "11249979140389061982"
     },
     "user_tz": -480
    },
    "id": "hcKIrZBtzhO2",
    "outputId": "c0375bc0-10d4-4198-b0b5-a19d03cf016b"
   },
   "outputs": [
    {
     "name": "stdout",
     "output_type": "stream",
     "text": [
      "delta 0\n",
      "delta 1.0\n",
      "delta 1.0\n",
      "delta 1.0\n",
      "delta 1.0\n",
      "delta 1.0\n",
      "delta 1.0\n",
      "delta 1.0\n",
      "delta 1.0\n",
      "delta 1.0\n",
      "delta 1.0\n",
      "delta 1.0\n",
      "delta 1.0\n",
      "delta 1.0\n",
      "delta 1.0\n",
      "delta 1.0\n",
      "delta 0\n",
      "delta 0\n",
      "delta 1.0\n",
      "delta 1.0\n",
      "delta 1.0\n",
      "delta 1.0\n",
      "delta 1.0\n",
      "delta 1.0\n",
      "delta 1.0\n",
      "delta 1.0\n",
      "delta 1.0\n",
      "delta 1.0\n",
      "delta 1.0\n",
      "delta 1.0\n",
      "delta 1.0\n",
      "delta 1.0\n",
      "delta 0\n",
      "delta 0\n",
      "delta 0\n",
      "delta 1.0\n",
      "delta 1.0\n",
      "delta 1.0\n",
      "delta 1.0\n",
      "delta 1.0\n",
      "delta 1.0\n",
      "delta 1.0\n",
      "delta 1.0\n",
      "delta 1.0\n",
      "delta 1.0\n",
      "delta 1.0\n",
      "delta 1.0\n",
      "delta 1.0\n",
      "delta 0\n",
      "delta 0\n",
      "delta 0\n",
      "delta 0\n",
      "delta 0\n",
      "delta 0\n",
      "delta 0\n",
      "delta 0\n",
      "delta 0\n",
      "delta 0\n",
      "delta 0\n",
      "delta 0\n",
      "delta 0\n",
      "delta 0\n",
      "delta 0\n",
      "delta 0\n",
      "最後訓練幾次 4\n"
     ]
    }
   ],
   "source": [
    "# 執行值迭代(Value Iteration)，並傳回最優策略和最終的狀態值函數\n",
    "policy, v = value_iteration(env)"
   ]
  },
  {
   "cell_type": "code",
   "execution_count": 9,
   "metadata": {
    "colab": {
     "base_uri": "https://localhost:8080/"
    },
    "executionInfo": {
     "elapsed": 16,
     "status": "ok",
     "timestamp": 1756213539335,
     "user": {
      "displayName": "Lewis Yang",
      "userId": "11249979140389061982"
     },
     "user_tz": -480
    },
    "id": "oOSQhQNOzhO3",
    "outputId": "e214a442-0147-4899-c4b9-ae962f244ab6"
   },
   "outputs": [
    {
     "name": "stdout",
     "output_type": "stream",
     "text": [
      "策略機率分配:\n",
      "[[1. 0. 0. 0.]\n",
      " [0. 0. 0. 1.]\n",
      " [0. 0. 0. 1.]\n",
      " [0. 0. 1. 0.]\n",
      " [1. 0. 0. 0.]\n",
      " [1. 0. 0. 0.]\n",
      " [1. 0. 0. 0.]\n",
      " [0. 0. 1. 0.]\n",
      " [1. 0. 0. 0.]\n",
      " [1. 0. 0. 0.]\n",
      " [0. 1. 0. 0.]\n",
      " [0. 0. 1. 0.]\n",
      " [1. 0. 0. 0.]\n",
      " [0. 1. 0. 0.]\n",
      " [0. 1. 0. 0.]\n",
      " [1. 0. 0. 0.]]\n",
      "\n",
      "\n",
      "4x4 策略機率分配(0 = up, 1 = right, 2 = down, 3 = left):\n",
      "[[0 3 3 2]\n",
      " [0 0 0 2]\n",
      " [0 0 1 2]\n",
      " [0 1 1 0]]\n",
      "\n",
      "\n",
      "4x4 狀態值函數:\n",
      "[[ 0. -1. -2. -3.]\n",
      " [-1. -2. -3. -2.]\n",
      " [-2. -3. -2. -1.]\n",
      " [-3. -2. -1.  0.]]\n"
     ]
    }
   ],
   "source": [
    "# 顯示最終策略的機率分配(每個狀態對每個動作的選擇機率)\n",
    "print(\"策略機率分配:\")\n",
    "print(policy)\n",
    "print(\"\\n\")\n",
    "\n",
    "# 顯示每個狀態下選擇機率最高的動作(即最優策略)\n",
    "# 將一維動作索引轉成4x4矩陣的形式(對應FrozenLake的地圖)\n",
    "# 動作代號：0 = ↑, 1 = →, 2 = ↓, 3 = ←\n",
    "print(\"4x4 策略機率分配(0 = up, 1 = right, 2 = down, 3 = left):\")\n",
    "print(np.reshape(np.argmax(policy, axis = 1), env.shape))\n",
    "print(\"\\n\")\n",
    "\n",
    "# 顯示最終的狀態值函數(每個狀態的預期累積報酬)\n",
    "# 將一維的狀態值向量v轉成4x4矩陣的形式以對應地圖視覺結構\n",
    "print(\"4x4 狀態值函數:\")\n",
    "print(v.reshape(env.shape))"
   ]
  },
  {
   "cell_type": "code",
   "execution_count": 10,
   "metadata": {
    "colab": {
     "base_uri": "https://localhost:8080/"
    },
    "executionInfo": {
     "elapsed": 32,
     "status": "ok",
     "timestamp": 1756213482469,
     "user": {
      "displayName": "Lewis Yang",
      "userId": "11249979140389061982"
     },
     "user_tz": -480
    },
    "id": "Ii6gEraOzhO4",
    "outputId": "3b308012-1d93-40b4-8c8c-cfa0d6b4fc40"
   },
   "outputs": [],
   "source": [
    "# 驗證計算出的狀態值函數v是否與預期結果expected_v接近(小數點後2位)\n",
    "expected_v = np.array([ 0, -1, -2, -3, -1, -2, -3, -2, -2, -3, -2, -1, -3, -2, -1,  0])\n",
    "np.testing.assert_array_almost_equal(v, expected_v, decimal = 2)"
   ]
  },
  {
   "cell_type": "markdown",
   "metadata": {
    "id": "b9d1WOLqzhO5"
   },
   "source": [
    "## CliffWalkingEnv"
   ]
  },
  {
   "cell_type": "code",
   "execution_count": 11,
   "metadata": {
    "colab": {
     "base_uri": "https://localhost:8080/"
    },
    "executionInfo": {
     "elapsed": 23,
     "status": "ok",
     "timestamp": 1756213544600,
     "user": {
      "displayName": "Lewis Yang",
      "userId": "11249979140389061982"
     },
     "user_tz": -480
    },
    "id": "8mWAjSdkzhO6",
    "outputId": "27778798-ce29-4149-e044-0a5754280985"
   },
   "outputs": [
    {
     "name": "stdout",
     "output_type": "stream",
     "text": [
      "delta 1.0\n",
      "delta 1.0\n",
      "delta 1.0\n",
      "delta 1.0\n",
      "delta 1.0\n",
      "delta 1.0\n",
      "delta 1.0\n",
      "delta 1.0\n",
      "delta 1.0\n",
      "delta 1.0\n",
      "delta 1.0\n",
      "delta 1.0\n",
      "delta 1.0\n",
      "delta 1.0\n",
      "delta 1.0\n",
      "delta 1.0\n",
      "delta 1.0\n",
      "delta 1.0\n",
      "delta 1.0\n",
      "delta 1.0\n",
      "delta 1.0\n",
      "delta 1.0\n",
      "delta 1.0\n",
      "delta 1.0\n",
      "delta 1.0\n",
      "delta 1.0\n",
      "delta 1.0\n",
      "delta 1.0\n",
      "delta 1.0\n",
      "delta 1.0\n",
      "delta 1.0\n",
      "delta 1.0\n",
      "delta 1.0\n",
      "delta 1.0\n",
      "delta 1.0\n",
      "delta 1.0\n",
      "delta 1.0\n",
      "delta 2.0\n",
      "delta 2.0\n",
      "delta 2.0\n",
      "delta 2.0\n",
      "delta 2.0\n",
      "delta 2.0\n",
      "delta 2.0\n",
      "delta 2.0\n",
      "delta 2.0\n",
      "delta 2.0\n",
      "delta 2.0\n",
      "delta 1.0\n",
      "delta 1.0\n",
      "delta 1.0\n",
      "delta 1.0\n",
      "delta 1.0\n",
      "delta 1.0\n",
      "delta 1.0\n",
      "delta 1.0\n",
      "delta 1.0\n",
      "delta 1.0\n",
      "delta 1.0\n",
      "delta 1.0\n",
      "delta 1.0\n",
      "delta 1.0\n",
      "delta 1.0\n",
      "delta 1.0\n",
      "delta 1.0\n",
      "delta 1.0\n",
      "delta 1.0\n",
      "delta 1.0\n",
      "delta 1.0\n",
      "delta 1.0\n",
      "delta 1.0\n",
      "delta 1.0\n",
      "delta 1.0\n",
      "delta 1.0\n",
      "delta 1.0\n",
      "delta 1.0\n",
      "delta 1.0\n",
      "delta 1.0\n",
      "delta 1.0\n",
      "delta 1.0\n",
      "delta 1.0\n",
      "delta 1.0\n",
      "delta 1.0\n",
      "delta 1.0\n",
      "delta 1.0\n",
      "delta 1.0\n",
      "delta 1.0\n",
      "delta 1.0\n",
      "delta 1.0\n",
      "delta 1.0\n",
      "delta 1.0\n",
      "delta 1.0\n",
      "delta 1.0\n",
      "delta 1.0\n",
      "delta 1.0\n",
      "delta 1.0\n",
      "最後訓練幾次 2\n"
     ]
    }
   ],
   "source": [
    "# 從自訂模組載入懸崖漫步環境\n",
    "from lib.envs.cliff_walking import CliffWalkingEnv\n",
    "\n",
    "# 初始化環境：這裡使用的是CliffWalking(懸崖走路)環境\n",
    "# 起點在左下角，終點在右下角，中間的懸崖會導致掉落並受到負獎勵\n",
    "env = CliffWalkingEnv()\n",
    "\n",
    "# 執行值迴圈，設定較大的誤差容忍度theta以加速收斂\n",
    "policy, v = value_iteration(env, theta = 2)"
   ]
  },
  {
   "cell_type": "code",
   "execution_count": 12,
   "metadata": {
    "colab": {
     "base_uri": "https://localhost:8080/"
    },
    "executionInfo": {
     "elapsed": 17,
     "status": "ok",
     "timestamp": 1756213551527,
     "user": {
      "displayName": "Lewis Yang",
      "userId": "11249979140389061982"
     },
     "user_tz": -480
    },
    "id": "c63n0QfDzhO7",
    "outputId": "946f2c37-f066-4339-ffa9-bf1e4779186f"
   },
   "outputs": [
    {
     "name": "stdout",
     "output_type": "stream",
     "text": [
      "策略機率分配:\n",
      "[[1. 0. 0. 0.]\n",
      " [1. 0. 0. 0.]\n",
      " [1. 0. 0. 0.]\n",
      " [1. 0. 0. 0.]\n",
      " [1. 0. 0. 0.]\n",
      " [1. 0. 0. 0.]\n",
      " [1. 0. 0. 0.]\n",
      " [1. 0. 0. 0.]\n",
      " [1. 0. 0. 0.]\n",
      " [1. 0. 0. 0.]\n",
      " [1. 0. 0. 0.]\n",
      " [1. 0. 0. 0.]\n",
      " [1. 0. 0. 0.]\n",
      " [1. 0. 0. 0.]\n",
      " [1. 0. 0. 0.]\n",
      " [1. 0. 0. 0.]\n",
      " [1. 0. 0. 0.]\n",
      " [1. 0. 0. 0.]\n",
      " [1. 0. 0. 0.]\n",
      " [1. 0. 0. 0.]\n",
      " [1. 0. 0. 0.]\n",
      " [1. 0. 0. 0.]\n",
      " [1. 0. 0. 0.]\n",
      " [1. 0. 0. 0.]\n",
      " [1. 0. 0. 0.]\n",
      " [1. 0. 0. 0.]\n",
      " [1. 0. 0. 0.]\n",
      " [1. 0. 0. 0.]\n",
      " [1. 0. 0. 0.]\n",
      " [1. 0. 0. 0.]\n",
      " [1. 0. 0. 0.]\n",
      " [1. 0. 0. 0.]\n",
      " [1. 0. 0. 0.]\n",
      " [1. 0. 0. 0.]\n",
      " [1. 0. 0. 0.]\n",
      " [1. 0. 0. 0.]\n",
      " [1. 0. 0. 0.]\n",
      " [1. 0. 0. 0.]\n",
      " [1. 0. 0. 0.]\n",
      " [1. 0. 0. 0.]\n",
      " [1. 0. 0. 0.]\n",
      " [1. 0. 0. 0.]\n",
      " [1. 0. 0. 0.]\n",
      " [1. 0. 0. 0.]\n",
      " [1. 0. 0. 0.]\n",
      " [1. 0. 0. 0.]\n",
      " [1. 0. 0. 0.]\n",
      " [1. 0. 0. 0.]]\n",
      "\n",
      "4x12 策略機率分配(0 = up, 1 = right, 2 = down, 3 = left):\n",
      "[[0 0 0 0 0 0 0 0 0 0 0 0]\n",
      " [0 0 0 0 0 0 0 0 0 0 0 0]\n",
      " [0 0 0 0 0 0 0 0 0 0 0 0]\n",
      " [0 0 0 0 0 0 0 0 0 0 0 0]]\n",
      "\n",
      "4x12 狀態值函數:\n",
      "[[-2. -2. -2. -2. -2. -2. -2. -2. -2. -2. -2. -2.]\n",
      " [-2. -2. -2. -2. -2. -2. -2. -2. -2. -2. -2. -2.]\n",
      " [-2. -2. -2. -2. -2. -2. -2. -2. -2. -2. -2. -2.]\n",
      " [-2. -3. -3. -3. -3. -3. -3. -3. -3. -3. -2. -2.]]\n"
     ]
    }
   ],
   "source": [
    "# 顯示最終策略的機率分配(每個狀態對每個動作的選擇機率)\n",
    "print(\"策略機率分配:\")\n",
    "print(policy)\n",
    "print(\"\")\n",
    "\n",
    "# 顯示每個狀態下選擇機率最高的動作(即最優策略)\n",
    "# 將一維動作索引轉成4x12矩陣的形式\n",
    "# 動作代號：0 = ↑, 1 = →, 2 = ↓, 3 = ←\n",
    "print(\"4x12 策略機率分配(0 = up, 1 = right, 2 = down, 3 = left):\")\n",
    "print(np.reshape(np.argmax(policy, axis = 1), env.shape))\n",
    "print(\"\")\n",
    "\n",
    "# 顯示最終的狀態值函數(每個狀態的預期累積回報)\n",
    "# 將一維的狀態值向量v轉成4x12矩陣的形式\n",
    "print(\"4x12 狀態值函數:\")\n",
    "print(v.reshape(env.shape))"
   ]
  }
 ],
 "metadata": {
  "colab": {
   "provenance": []
  },
  "kernelspec": {
   "display_name": "base",
   "language": "python",
   "name": "python3"
  },
  "language_info": {
   "codemirror_mode": {
    "name": "ipython",
    "version": 3
   },
   "file_extension": ".py",
   "mimetype": "text/x-python",
   "name": "python",
   "nbconvert_exporter": "python",
   "pygments_lexer": "ipython3",
   "version": "3.12.3"
  }
 },
 "nbformat": 4,
 "nbformat_minor": 0
}
