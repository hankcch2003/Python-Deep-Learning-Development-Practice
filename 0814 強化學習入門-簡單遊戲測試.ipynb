{
 "cells": [
  {
   "cell_type": "code",
   "execution_count": 1,
   "id": "e16b6419",
   "metadata": {},
   "outputs": [
    {
     "name": "stdout",
     "output_type": "stream",
     "text": [
      "累計報酬: 0.9400\n",
      "行動: [1, -1, 1, 1]\n",
      "累計報酬: -1.0200\n",
      "行動: [-1, -1]\n",
      "累計報酬: -1.0600\n",
      "行動: [-1, 1, -1, -1]\n",
      "累計報酬: 0.9800\n",
      "行動: [1, 1]\n",
      "累計報酬: -1.1000\n",
      "行動: [1, -1, 1, -1, -1, -1]\n",
      "累計報酬: -1.0600\n",
      "行動: [-1, 1, -1, -1]\n",
      "累計報酬: -1.0200\n",
      "行動: [-1, -1]\n",
      "累計報酬: -1.0200\n",
      "行動: [-1, -1]\n",
      "累計報酬: -1.1400\n",
      "行動: [1, -1, -1, 1, 1, -1, -1, -1]\n",
      "累計報酬: -1.2600\n",
      "行動: [-1, 1, 1, -1, 1, -1, 1, -1, -1, 1, 1, -1, -1, -1]\n"
     ]
    }
   ],
   "source": [
    "# 載入自訂模組中的環境與代理人類別\n",
    "from RL_01_simple_game import Environment, Agent\n",
    "\n",
    "# 建立實驗，初始化環境與代理人\n",
    "env = Environment()\n",
    "agent = Agent()\n",
    "\n",
    "# 進行多次實驗(此處10次)\n",
    "for _ in range(10):\n",
    "    env.__init__()    # 重置環境，每次實驗從初始狀態開始\n",
    "    total_reward = 0  # 初始化累計報酬\n",
    "    action_list = []  # 記錄本回合採取的所有動作\n",
    "    \n",
    "    # 當回合尚未結束時，由代理人選擇動作，並將動作加入清單\n",
    "    while not env.is_done():\n",
    "        action = agent.action(env)\n",
    "        action_list += [action]\n",
    "        \n",
    "        # 執行動作並取得下一狀態與即時獎勵\n",
    "        state, reward = env.step(action)\n",
    "        \n",
    "        # 累計報酬\n",
    "        total_reward += reward\n",
    "\n",
    "    # 回合結束後，顯示結果\n",
    "    print(f\"累計報酬: {total_reward:.4f}\")\n",
    "    print(f\"行動: {action_list}\")"
   ]
  }
 ],
 "metadata": {
  "kernelspec": {
   "display_name": "base",
   "language": "python",
   "name": "python3"
  },
  "language_info": {
   "codemirror_mode": {
    "name": "ipython",
    "version": 3
   },
   "file_extension": ".py",
   "mimetype": "text/x-python",
   "name": "python",
   "nbconvert_exporter": "python",
   "pygments_lexer": "ipython3",
   "version": "3.12.3"
  }
 },
 "nbformat": 4,
 "nbformat_minor": 5
}
