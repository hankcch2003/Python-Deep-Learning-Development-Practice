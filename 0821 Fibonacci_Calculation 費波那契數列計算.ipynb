{
 "cells": [
  {
   "cell_type": "markdown",
   "metadata": {
    "id": "T3HU_eq6qhA2"
   },
   "source": [
    "# 費波那契數列(Fibonacci)計算"
   ]
  },
  {
   "cell_type": "markdown",
   "metadata": {},
   "source": [
    "#### 計算範例：fibonacci(7)\n",
    "#### f(7) = f(6) + f(5)\n",
    "####      = (f(5) + f(4)) + (f(4) + f(3))\n",
    "####      = ((f(4) + f(3)) + (f(3) + f(2))) + ((f(3) + f(2)) + (f(2) + f(1)))\n",
    "####      = (((f(3) + f(2)) + (f(2) + f(1))) + ((f(2) + f(1)) + (f(1) + f(0))))\n",
    "\n",
    "#### 最後會展開成：f(7) = 13\n",
    "\n",
    "#### 展開過程：\n",
    "#### f(2) = 1 + 0 = 1\n",
    "#### f(3) = 2 + 1 = 3\n",
    "#### f(4) = 3 + 2 = 5\n",
    "#### f(5) = 5 + 3 = 8\n",
    "#### f(6) = 8 + 5 = 13\n",
    "#### f(7) = 13"
   ]
  },
  {
   "cell_type": "code",
   "execution_count": 1,
   "metadata": {
    "colab": {
     "base_uri": "https://localhost:8080/"
    },
    "executionInfo": {
     "elapsed": 8,
     "status": "ok",
     "timestamp": 1755783994520,
     "user": {
      "displayName": "Lewis Yang",
      "userId": "11249979140389061982"
     },
     "user_tz": -480
    },
    "id": "R1R5o-9_qhA7",
    "outputId": "06038601-1bc3-4e11-bc86-ed01c0e7ec84"
   },
   "outputs": [
    {
     "name": "stdout",
     "output_type": "stream",
     "text": [
      "[1, 2, 3, 5, 8, 13, 21, 34, 55, 89, 144, 233, 377, 610, 987, 1597, 2584, 4181]\n"
     ]
    }
   ],
   "source": [
    "# 定義一個遞迴函數，用來計算第n個費波那契數\n",
    "def fibonacci(n):\n",
    "    # 如果n是0或1，直接回傳n\n",
    "    if n == 0 or n == 1:\n",
    "        return n\n",
    "    \n",
    "    # 否則回傳前兩個數的和\n",
    "    else:\n",
    "        return fibonacci(n - 1) + fibonacci(n - 2)\n",
    "\n",
    "list1 = []\n",
    "for i in range(2, 20):          # 計算從第2個到第19個的Fibonacci數字\n",
    "    list1.append(fibonacci(i))  # 將每個值加入list1\n",
    "print(list1)                    # 輸出結果"
   ]
  },
  {
   "cell_type": "code",
   "execution_count": 2,
   "metadata": {
    "colab": {
     "base_uri": "https://localhost:8080/"
    },
    "executionInfo": {
     "elapsed": 314,
     "status": "ok",
     "timestamp": 1716900158486,
     "user": {
      "displayName": "Lewis Yang",
      "userId": "11249979140389061982"
     },
     "user_tz": -480
    },
    "id": "JYca1L0NqhA_",
    "outputId": "4d3a22fc-b39e-408e-a2bf-aa96ed2ab81d"
   },
   "outputs": [
    {
     "name": "stdout",
     "output_type": "stream",
     "text": [
      "0.6180339631667066\n",
      "0.6180340557275542\n",
      "0.6180338134001252\n",
      "0.6180344478216818\n"
     ]
    }
   ],
   "source": [
    "# 計算費波那契數列相鄰兩項的比值(前一項 ÷ 後一項)\n",
    "# 用來觀察是否逐漸收斂到「黃金比例的倒數」約0.6180339887...\n",
    "\n",
    "# 計算並輸出相鄰費波那契數的比例\n",
    "print(2584 / 4181)  # f(18) / f(19) ≈ 0.617920 — 接近0.618\n",
    "print(1597 / 2584)  # f(17) / f(18) ≈ 0.618034 — 更接近\n",
    "print(987 / 1597)   # f(16) / f(17) ≈ 0.618033 — 非常接近\n",
    "print(610 / 987)    # f(15) / f(16) ≈ 0.618034 — 非常接近"
   ]
  }
 ],
 "metadata": {
  "colab": {
   "provenance": []
  },
  "kernelspec": {
   "display_name": "base",
   "language": "python",
   "name": "python3"
  },
  "language_info": {
   "codemirror_mode": {
    "name": "ipython",
    "version": 3
   },
   "file_extension": ".py",
   "mimetype": "text/x-python",
   "name": "python",
   "nbconvert_exporter": "python",
   "pygments_lexer": "ipython3",
   "version": "3.12.7"
  }
 },
 "nbformat": 4,
 "nbformat_minor": 0
}
