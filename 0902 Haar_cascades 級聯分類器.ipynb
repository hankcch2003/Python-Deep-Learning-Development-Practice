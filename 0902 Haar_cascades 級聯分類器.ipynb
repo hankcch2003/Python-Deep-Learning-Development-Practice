{
 "cells": [
  {
   "cell_type": "code",
   "execution_count": 1,
   "metadata": {
    "executionInfo": {
     "elapsed": 25,
     "status": "ok",
     "timestamp": 1756817182048,
     "user": {
      "displayName": "Lewis Yang",
      "userId": "11249979140389061982"
     },
     "user_tz": -480
    },
    "id": "kA3-5HU2dfeP"
   },
   "outputs": [
    {
     "name": "stdout",
     "output_type": "stream",
     "text": [
      "c:\\Users\\hankc\\anaconda3\\Lib\\site-packages\\skimage\\__init__.py\n"
     ]
    }
   ],
   "source": [
    "# 匯入skimage套件，用於影像處理\n",
    "import skimage\n",
    "\n",
    "# 查詢skimage套件的檔案路徑，方便了解該套件在系統中的安裝位置\n",
    "print(skimage.__file__)"
   ]
  },
  {
   "cell_type": "code",
   "execution_count": 2,
   "metadata": {},
   "outputs": [
    {
     "name": "stdout",
     "output_type": "stream",
     "text": [
      "c:\\Users\\hankc\\anaconda3\\Lib\\site-packages\\cv2\\__init__.py\n"
     ]
    }
   ],
   "source": [
    "# 匯入OpenCV套件，用於影像處理\n",
    "import cv2\n",
    "\n",
    "# 查詢OpenCV套件的檔案路徑，方便了解該套件在系統中的安裝位置\n",
    "print(cv2.__file__)"
   ]
  },
  {
   "cell_type": "code",
   "execution_count": 3,
   "metadata": {
    "colab": {
     "base_uri": "https://localhost:8080/"
    },
    "executionInfo": {
     "elapsed": 113,
     "status": "ok",
     "timestamp": 1756817221130,
     "user": {
      "displayName": "Lewis Yang",
      "userId": "11249979140389061982"
     },
     "user_tz": -480
    },
    "id": "GkeRFK6fdwSf",
    "outputId": "c8d7948b-6f0c-43b4-d573-735450cde0dd"
   },
   "outputs": [
    {
     "name": "stdout",
     "output_type": "stream",
     "text": [
      "skimage的.xml檔案有：\n",
      "E:\\Colab第三階段202505\\ch22_20250902\\cascade_files\\haarcascade_car.xml\n",
      "E:\\Colab第三階段202505\\ch22_20250902\\cascade_files\\haarcascade_eye.xml\n",
      "E:\\Colab第三階段202505\\ch22_20250902\\cascade_files\\haarcascade_eye_tree_eyeglasses.xml\n",
      "E:\\Colab第三階段202505\\ch22_20250902\\cascade_files\\haarcascade_frontalcatface.xml\n",
      "E:\\Colab第三階段202505\\ch22_20250902\\cascade_files\\haarcascade_frontalcatface_extended.xml\n",
      "E:\\Colab第三階段202505\\ch22_20250902\\cascade_files\\haarcascade_frontalface_alt.xml\n",
      "E:\\Colab第三階段202505\\ch22_20250902\\cascade_files\\haarcascade_frontalface_alt_tree.xml\n",
      "E:\\Colab第三階段202505\\ch22_20250902\\cascade_files\\haarcascade_frontalface_alt2.xml\n",
      "E:\\Colab第三階段202505\\ch22_20250902\\cascade_files\\haarcascade_frontalface_default.xml\n",
      "E:\\Colab第三階段202505\\ch22_20250902\\cascade_files\\haarcascade_fullbody.xml\n",
      "E:\\Colab第三階段202505\\ch22_20250902\\cascade_files\\haarcascade_lefteye_2splits.xml\n",
      "E:\\Colab第三階段202505\\ch22_20250902\\cascade_files\\haarcascade_licence_plate_rus_16stages.xml\n",
      "E:\\Colab第三階段202505\\ch22_20250902\\cascade_files\\haarcascade_lowerbody.xml\n",
      "E:\\Colab第三階段202505\\ch22_20250902\\cascade_files\\haarcascade_mcs_nose.xml\n",
      "E:\\Colab第三階段202505\\ch22_20250902\\cascade_files\\haarcascade_profileface.xml\n",
      "E:\\Colab第三階段202505\\ch22_20250902\\cascade_files\\haarcascade_righteye_2splits.xml\n",
      "E:\\Colab第三階段202505\\ch22_20250902\\cascade_files\\haarcascade_russian_plate_number.xml\n",
      "E:\\Colab第三階段202505\\ch22_20250902\\cascade_files\\haarcascade_smile.xml\n",
      "E:\\Colab第三階段202505\\ch22_20250902\\cascade_files\\haarcascade_upperbody.xml\n"
     ]
    }
   ],
   "source": [
    "# 匯入pathlib模組中的Path類別，用於處理檔案與目錄路徑操作\n",
    "from pathlib import Path\n",
    "\n",
    "# 指定skimage套件的目的地路徑\n",
    "skimage_path = Path(r'E:\\Colab第三階段202505\\ch22_20250902\\cascade_files')\n",
    "\n",
    "# 輸出所有skimage資料夾底下所有副檔名為.xml的檔案\n",
    "print(\"skimage的.xml檔案有：\")\n",
    "\n",
    "# 遞迴搜尋目錄中所有副檔名為.xml的檔案\n",
    "skimage_xml_files = list(skimage_path.rglob('*.xml'))\n",
    "\n",
    "# 列出所有找到的xml檔案並輸出完整路徑\n",
    "for f in skimage_xml_files:\n",
    "    print(f)"
   ]
  },
  {
   "cell_type": "code",
   "execution_count": 4,
   "metadata": {},
   "outputs": [
    {
     "name": "stdout",
     "output_type": "stream",
     "text": [
      "cv2的.xml檔案有：\n",
      "E:\\Colab第三階段202505\\ch22_20250902\\cascade_files\\haarcascade_car.xml\n",
      "E:\\Colab第三階段202505\\ch22_20250902\\cascade_files\\haarcascade_eye.xml\n",
      "E:\\Colab第三階段202505\\ch22_20250902\\cascade_files\\haarcascade_eye_tree_eyeglasses.xml\n",
      "E:\\Colab第三階段202505\\ch22_20250902\\cascade_files\\haarcascade_frontalcatface.xml\n",
      "E:\\Colab第三階段202505\\ch22_20250902\\cascade_files\\haarcascade_frontalcatface_extended.xml\n",
      "E:\\Colab第三階段202505\\ch22_20250902\\cascade_files\\haarcascade_frontalface_alt.xml\n",
      "E:\\Colab第三階段202505\\ch22_20250902\\cascade_files\\haarcascade_frontalface_alt_tree.xml\n",
      "E:\\Colab第三階段202505\\ch22_20250902\\cascade_files\\haarcascade_frontalface_alt2.xml\n",
      "E:\\Colab第三階段202505\\ch22_20250902\\cascade_files\\haarcascade_frontalface_default.xml\n",
      "E:\\Colab第三階段202505\\ch22_20250902\\cascade_files\\haarcascade_fullbody.xml\n",
      "E:\\Colab第三階段202505\\ch22_20250902\\cascade_files\\haarcascade_lefteye_2splits.xml\n",
      "E:\\Colab第三階段202505\\ch22_20250902\\cascade_files\\haarcascade_licence_plate_rus_16stages.xml\n",
      "E:\\Colab第三階段202505\\ch22_20250902\\cascade_files\\haarcascade_lowerbody.xml\n",
      "E:\\Colab第三階段202505\\ch22_20250902\\cascade_files\\haarcascade_mcs_nose.xml\n",
      "E:\\Colab第三階段202505\\ch22_20250902\\cascade_files\\haarcascade_profileface.xml\n",
      "E:\\Colab第三階段202505\\ch22_20250902\\cascade_files\\haarcascade_righteye_2splits.xml\n",
      "E:\\Colab第三階段202505\\ch22_20250902\\cascade_files\\haarcascade_russian_plate_number.xml\n",
      "E:\\Colab第三階段202505\\ch22_20250902\\cascade_files\\haarcascade_smile.xml\n",
      "E:\\Colab第三階段202505\\ch22_20250902\\cascade_files\\haarcascade_upperbody.xml\n"
     ]
    }
   ],
   "source": [
    "# 指定cv2套件的目的地路徑\n",
    "cv2_path = Path(r'E:\\Colab第三階段202505\\ch22_20250902\\cascade_files')\n",
    "\n",
    "# 輸出所有cv2資料夾底下所有副檔名為.xml的檔案\n",
    "print(\"cv2的.xml檔案有：\")\n",
    "\n",
    "# 遞迴搜尋目錄中所有副檔名為.xml的檔案\n",
    "cv2_xml_files = list(cv2_path.rglob('*.xml'))\n",
    "\n",
    "# 列出所有找到的xml檔案並輸出完整路徑\n",
    "for f in cv2_xml_files:\n",
    "    print(f)"
   ]
  },
  {
   "cell_type": "code",
   "execution_count": 5,
   "metadata": {},
   "outputs": [
    {
     "name": "stdout",
     "output_type": "stream",
     "text": [
      "haarcascade_smile.xml 檔案已複製到 E:\\Colab第三階段202505\\ch22_20250902\\cascade_files 資料夾\n"
     ]
    }
   ],
   "source": [
    "# 匯入shutil模組，用於檔案複製\n",
    "import shutil\n",
    "\n",
    "# 來源檔案路徑：使用OpenCV內建的haarcascade路徑，加上檔名\n",
    "src = cv2.data.haarcascades + 'haarcascade_smile.xml'\n",
    "\n",
    "# 將字串路徑轉成Path物件，方便後續操作\n",
    "src_path = Path(src)\n",
    "\n",
    "# 目的地路徑：指定要複製到的完整路徑\n",
    "dst_folder = Path(r'E:\\Colab第三階段202505\\ch22_20250902\\cascade_files')\n",
    "\n",
    "# 判斷來源檔案是否存在，避免因找不到檔案而出錯\n",
    "if src_path.exists():\n",
    "    # 複製來源檔案到目的地資料夾\n",
    "    shutil.copy(src_path, dst_folder / src_path.name)\n",
    "\n",
    "    # 輸出檔案複製成功的訊息\n",
    "    print(f'{src_path.name} 檔案已複製到 {dst_folder} 資料夾')\n",
    "else:\n",
    "    # 若來源檔案不存在，輸出錯誤提示訊息\n",
    "    print(f'來源檔案不存在：{src_path}')"
   ]
  }
 ],
 "metadata": {
  "colab": {
   "authorship_tag": "ABX9TyOhM6bMGd9x9aZze+JSecWi",
   "provenance": []
  },
  "kernelspec": {
   "display_name": "base",
   "language": "python",
   "name": "python3"
  },
  "language_info": {
   "codemirror_mode": {
    "name": "ipython",
    "version": 3
   },
   "file_extension": ".py",
   "mimetype": "text/x-python",
   "name": "python",
   "nbconvert_exporter": "python",
   "pygments_lexer": "ipython3",
   "version": "3.12.3"
  }
 },
 "nbformat": 4,
 "nbformat_minor": 0
}
