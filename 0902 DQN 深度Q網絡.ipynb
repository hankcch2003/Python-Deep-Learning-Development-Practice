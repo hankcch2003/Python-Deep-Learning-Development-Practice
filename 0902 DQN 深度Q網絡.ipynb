{
  "cells": [
    {
      "cell_type": "markdown",
      "metadata": {
        "id": "WKIA4rOnee2h"
      },
      "source": [
        "# 以深度Q網絡(DQN)實作木棒台車(CartPole)"
      ]
    },
    {
      "cell_type": "code",
      "execution_count": 1,
      "metadata": {
        "colab": {
          "base_uri": "https://localhost:8080/"
        },
        "id": "IXdtu_gKee2q",
        "outputId": "a2915833-8960-465c-d600-43624085427c"
      },
      "outputs": [
        {
          "name": "stderr",
          "output_type": "stream",
          "text": [
            "Gym has been unmaintained since 2022 and does not support NumPy 2.0 amongst other critical functionality.\n",
            "Please upgrade to Gymnasium, the maintained drop-in replacement of Gym, or contact the authors of your software and request that they upgrade.\n",
            "See the migration guide at https://gymnasium.farama.org/introduction/migration_guide/ for additional information.\n"
          ]
        }
      ],
      "source": [
        "# 匯入PIL套件中的Image模組，用於影像處理\n",
        "from PIL import Image\n",
        "\n",
        "# 從IPython模組匯入display類別，用來在Jupyter Notebook中顯示圖片\n",
        "from IPython import display\n",
        "\n",
        "# 匯入itertools套件中的count函數，用於產生連續數字\n",
        "from itertools import count\n",
        "\n",
        "# 匯入matplotlib套件，用於資料視覺化\n",
        "import matplotlib\n",
        "\n",
        "# 匯入matplotlib.pyplot模組，用於繪圖\n",
        "import matplotlib.pyplot as plt\n",
        "\n",
        "# 匯入numpy套件，用於數值計算與陣列處理\n",
        "import numpy as np\n",
        "\n",
        "# 匯入random模組，用於隨機數生成\n",
        "import random\n",
        "\n",
        "# 匯入math模組，用於數學運算\n",
        "import math\n",
        "\n",
        "# 匯入torch套件，用於建立深度學習模型\n",
        "import torch\n",
        "\n",
        "# 匯入torch.nn模組，用於建立神經網路模型\n",
        "import torch.nn as nn\n",
        "\n",
        "# 匯入torch.optim模組，用於優化神經網路模型\n",
        "import torch.optim as optim\n",
        "\n",
        "# 匯入torch.nn.functional模組，用於神經網路中的函數操作\n",
        "import torch.nn.functional as F\n",
        "\n",
        "# 匯入torchvision.transforms模組，用於影像轉換與增強\n",
        "import torchvision.transforms as T\n",
        "\n",
        "# 匯入collections套件中的namedtuple, deque，用於資料結構\n",
        "from collections import namedtuple, deque\n",
        "\n",
        "# 匯入gym套件，用於建立和操作強化學習環境\n",
        "import gym\n",
        "\n",
        "# 匯入gymnasium套件，用於建立和操作強化學習環境\n",
        "import gymnasium as gym"
      ]
    },
    {
      "cell_type": "code",
      "execution_count": 2,
      "metadata": {
        "id": "UgDRTGQcee2u"
      },
      "outputs": [],
      "source": [
        "# 設定matplotlib在Jupyter Notebook中內嵌顯示圖片\n",
        "%matplotlib inline\n",
        "\n",
        "# 採用互動模式，允許即時更新圖表\n",
        "plt.ion()\n",
        "\n",
        "# 判斷是否有可用的GPU，若有則使用GPU，否則使用CPU\n",
        "device = torch.device(\"cuda\" if torch.cuda.is_available() else \"cpu\")"
      ]
    },
    {
      "cell_type": "code",
      "execution_count": 3,
      "metadata": {
        "colab": {
          "base_uri": "https://localhost:8080/"
        },
        "id": "rUy7OeY1ee2x",
        "outputId": "7aff56a4-acb1-4caa-e0d5-02723b777515"
      },
      "outputs": [],
      "source": [
        "# 建立CartPole-v1環境，並將環境的render_mode設為'rgb_array'\n",
        "env = gym.make(\"CartPole-v1\", render_mode=\"rgb_array\")"
      ]
    },
    {
      "cell_type": "code",
      "execution_count": 4,
      "metadata": {
        "id": "pstWo9nsee2y"
      },
      "outputs": [],
      "source": [
        "# 定義一個namedtuple，包含state, action, next_state, reward四個欄位，用於儲存每一次的transition資料\n",
        "Transition = namedtuple('Transition', ('state', 'action', 'next_state', 'reward'))\n",
        "\n",
        "# 定義ReplayMemory類別，用於儲存和管理經驗回放記憶庫\n",
        "class ReplayMemory(object):\n",
        "\n",
        "    # 初始化ReplayMemory，設定記憶庫的容量\n",
        "    def __init__(self, capacity):\n",
        "        # 使用deque來儲存transition資料，並設定最大長度為capacity\n",
        "        self.memory = deque([], maxlen = capacity)\n",
        "\n",
        "    # 儲存一筆transition資料\n",
        "    def push(self, *args):\n",
        "        # 將一筆transition(state, action, next_state, reward)加入記憶庫\n",
        "        self.memory.append(Transition(*args))\n",
        "\n",
        "    # 隨機抽取batch_size筆transition資料\n",
        "    def sample(self, batch_size):\n",
        "        # 使用random.sample()方法從記憶庫中隨機抽取batch_size筆資料並傳回結果\n",
        "        return random.sample(self.memory, batch_size)\n",
        "\n",
        "    # 傳回記憶庫中目前的資料筆數\n",
        "    def __len__(self):\n",
        "        return len(self.memory)"
      ]
    },
    {
      "cell_type": "code",
      "execution_count": 5,
      "metadata": {
        "id": "IwhoxShRee21"
      },
      "outputs": [],
      "source": [
        "# 定義DQN卷積神經網路模型，繼承自nn.Module\n",
        "class DQN(nn.Module):\n",
        "    # 初始化DQN模型，設定輸入影像的高度h、寬度w，以及輸出行動空間大小outputs\n",
        "    def __init__(self, h, w, outputs):\n",
        "        super(DQN, self).__init__()\n",
        "\n",
        "        # 第一層卷積：輸入3通道(RGB)，輸出16通道，卷積核5×5，步幅2\n",
        "        self.conv1 = nn.Conv2d(3, 16, kernel_size = 5, stride = 2)\n",
        "        self.bn1 = nn.BatchNorm2d(16)  # 批次正規化\n",
        "\n",
        "        # 第二層卷積：輸入16通道，輸出32通道，卷積核5×5，步幅2\n",
        "        self.conv2 = nn.Conv2d(16, 32, kernel_size = 5, stride = 2)\n",
        "        self.bn2 = nn.BatchNorm2d(32)  # 批次正規化\n",
        "\n",
        "        # 第三層卷積：輸入32通道，輸出32通道，卷積核5×5，步幅2\n",
        "        self.conv3 = nn.Conv2d(32, 32, kernel_size = 5, stride = 2)\n",
        "        self.bn3 = nn.BatchNorm2d(32)  # 批次正規化\n",
        "\n",
        "        # 定義一個函式，用於計算卷積後的尺寸，預設卷積核大小為5x5，步幅為2\n",
        "        def conv2d_size_out(size, kernel_size = 5, stride = 2):\n",
        "            # 計算卷積層輸出特徵圖的寬度或高度(假設無padding)\n",
        "            return (size - (kernel_size - 1) - 1) // stride + 1\n",
        "\n",
        "        # 計算經過三層卷積後的影像寬度和高度\n",
        "        convw = conv2d_size_out(conv2d_size_out(conv2d_size_out(w)))\n",
        "        convh = conv2d_size_out(conv2d_size_out(conv2d_size_out(h)))\n",
        "\n",
        "        # 計算展平後的線性層輸入大小(寬度 × 高度 × 通道數)\n",
        "        linear_input_size = convw * convh * 32\n",
        "\n",
        "        # 定義全連接層，將展平後的特徵圖映射到行動空間大小(outputs)\n",
        "        self.head = nn.Linear(linear_input_size, outputs)\n",
        "\n",
        "    # 定義前向傳播函式，描述資料如何通過神經網路\n",
        "    def forward(self, x):\n",
        "        # 將輸入資料 x 移動到指定的運算裝置(CPU 或 GPU)\n",
        "        x = x.to(device)\n",
        "\n",
        "        # 經過三層卷積層，每層後接批次正規化和ReLU激活函數\n",
        "        x = F.relu(self.bn1(self.conv1(x)))\n",
        "        x = F.relu(self.bn2(self.conv2(x)))\n",
        "        x = F.relu(self.bn3(self.conv3(x)))\n",
        "        \n",
        "        # 展平特徵圖，並通過全連接層輸出行動價值\n",
        "        return self.head(x.view(x.size(0), -1))"
      ]
    },
    {
      "cell_type": "code",
      "execution_count": 6,
      "metadata": {
        "colab": {
          "base_uri": "https://localhost:8080/"
        },
        "id": "dH_3xzhWee23",
        "outputId": "cd40d7c5-d385-4362-cc28-c971205f50c2"
      },
      "outputs": [
        {
          "data": {
            "text/plain": [
              "(array([0.02381426, 0.02684345, 0.00988108, 0.0402534 ], dtype=float32), {})"
            ]
          },
          "execution_count": 6,
          "metadata": {},
          "output_type": "execute_result"
        }
      ],
      "source": [
        "# 定義影像轉換操作：先將影像轉為PIL格式，再調整大小為40x40，最後轉為張量\n",
        "resize = T.Compose([T.ToPILImage(), T.Resize(40), T.ToTensor()])\n",
        "\n",
        "# 定義取得台車位置的函式\n",
        "def get_cart_location(screen_width):\n",
        "    # 取得環境的寬度與台車可移動範圍，計算環境寬度(world_width)\n",
        "    world_width = env.unwrapped.x_threshold * 2\n",
        "\n",
        "    # 計算螢幕像素與環境寬度的比例(scale)，根據台車位置計算其在螢幕上的像素位置\n",
        "    scale = screen_width / world_width\n",
        "\n",
        "    # 傳回台車在螢幕上的像素位置\n",
        "    return int(env.unwrapped.state[0] * scale + screen_width / 2.0)\n",
        "\n",
        "# 取得螢幕所有像素，並轉換為張量\n",
        "def get_screen():\n",
        "    # 取得環境渲染的影像，轉置為(C, H, W)格式\n",
        "    screen = env.render().transpose((2, 0, 1))\n",
        "\n",
        "    # 擷取螢幕下半部像素(台車主要區域)\n",
        "    _, screen_height, screen_width = screen.shape\n",
        "    screen = screen[:, int(screen_height * 0.4): int(screen_height * 0.8)]\n",
        "\n",
        "    # 定義擷取區域寬度為螢幕寬度的60%\n",
        "    view_width = int(screen_width * 0.6)\n",
        "\n",
        "    # 取得台車位置(像素)\n",
        "    cart_location = get_cart_location(screen_width)\n",
        "\n",
        "    # 根據台車位置決定擷取範圍\n",
        "    if cart_location < view_width // 2:\n",
        "        slice_range = slice(view_width)         # 台車靠近左側，擷取左側區域\n",
        "    elif cart_location > (screen_width - view_width // 2):\n",
        "        slice_range = slice(-view_width, None)  # 台車靠近右側，擷取右側區域\n",
        "    else:\n",
        "        # 台車在中間位置，擷取以台車為中心的區域\n",
        "        slice_range = slice(cart_location - view_width // 2, cart_location + view_width // 2)\n",
        "\n",
        "    # 擷取畫面區域\n",
        "    screen = screen[:, :, slice_range]\n",
        "\n",
        "    # 將資料轉為連續存放的numpy陣列，並標準化到0~1之間\n",
        "    screen = np.ascontiguousarray(screen, dtype=np.float32) / 255\n",
        "\n",
        "    # 將numpy陣列轉為張量\n",
        "    screen = torch.from_numpy(screen)\n",
        "\n",
        "    # 使用先前定義的resize進行尺寸調整，並增加batch維度(B, C, H, W)\n",
        "    return resize(screen).unsqueeze(0)\n",
        "\n",
        "# 重設環境並取得初始狀態\n",
        "env.reset()"
      ]
    },
    {
      "cell_type": "code",
      "execution_count": 7,
      "metadata": {
        "colab": {
          "base_uri": "https://localhost:8080/",
          "height": 549
        },
        "id": "5P7v82Duee24",
        "outputId": "99283374-a348-4059-cb6a-ee77505a93ea"
      },
      "outputs": [
        {
          "data": {
            "image/png": "[encoded data removed]",
            "text/plain": [
              "<Figure size 640x480 with 1 Axes>"
            ]
          },
          "metadata": {},
          "output_type": "display_data"
        }
      ],
      "source": [
        "# 建立一個新的圖形視窗\n",
        "plt.figure()\n",
        "\n",
        "# 取得擷取的螢幕畫面，轉移到CPU，去除batch維度，調整維度順序為(H, W, C)，並轉為numpy陣列\n",
        "plt.imshow(get_screen().cpu().squeeze(0).permute(1, 2, 0).numpy(), interpolation='none')\n",
        "\n",
        "# 設定圖形標題為\"Example extracted screen\"\n",
        "plt.title(\"Example extracted screen\")\n",
        "\n",
        "# 顯示圖形視窗\n",
        "plt.show()"
      ]
    },
    {
      "cell_type": "code",
      "execution_count": 8,
      "metadata": {
        "id": "PhrulxbVee25"
      },
      "outputs": [],
      "source": [
        "# 設定DQN訓練的超參數\n",
        "BATCH_SIZE = 128    # 每次訓練的批次大小\n",
        "GAMMA = 0.999       # 折扣因子，影響未來獎勵的權重\n",
        "EPS_START = 0.9     # ε-greedy初始探索率\n",
        "EPS_END = 0.05      # ε-greedy最小探索率\n",
        "EPS_DECAY = 200     # ε衰減速度(控制ε下降快慢)\n",
        "TARGET_UPDATE = 10  # Target網路更新頻率(每幾回合同步一次)\n",
        "\n",
        "# 取得螢幕影像的高度與寬度，作為神經網路輸入尺寸\n",
        "init_screen = get_screen()\n",
        "_, _, screen_height, screen_width = init_screen.shape\n",
        "\n",
        "# 取得行動空間大小，CartPole通常有兩個動作(左、右)\n",
        "n_actions = env.action_space.n\n",
        "\n",
        "# 建立兩個DQN網路：policy_net負責學習，target_net負責穩定目標\n",
        "policy_net = DQN(screen_height, screen_width, n_actions).to(device)\n",
        "target_net = DQN(screen_height, screen_width, n_actions).to(device)\n",
        "\n",
        "# 將policy_net權重複製給target_net\n",
        "target_net.load_state_dict(policy_net.state_dict())\n",
        "\n",
        "# target_net設定為評估模式(不更新權重)\n",
        "target_net.eval()\n",
        "\n",
        "# 使用RMSprop優化器更新policy_net參數\n",
        "optimizer = optim.RMSprop(policy_net.parameters())\n",
        "\n",
        "# 建立Experience Replay記憶體，容量設定為10000筆\n",
        "memory = ReplayMemory(10000)\n",
        "\n",
        "# 初始化訓練時的全局變數\n",
        "steps_done = 0          # 記錄已經執行的步數\n",
        "episode_durations = []  # 紀錄每回合持續的時間(步數)\n",
        "\n",
        "# 定義行動選擇函數，使用ε-greedy策略平衡探索與利用\n",
        "def select_action(state):\n",
        "    # 使用global關鍵字，引用全域變數steps_done\n",
        "    global steps_done\n",
        "\n",
        "    # 產生一個0~1之間的隨機數\n",
        "    sample = random.random()\n",
        "\n",
        "    # 計算當前ε值，隨著steps_done增加以指數方式從EPS_START衰減至EPS_END\n",
        "    eps_threshold = EPS_END + (EPS_START - EPS_END) * math.exp(-1. * steps_done / EPS_DECAY)\n",
        "\n",
        "    # 累加已執行的步數\n",
        "    steps_done += 1\n",
        "\n",
        "    # 以ε-greedy策略選擇行動：大部分時間選擇最優行動，偶爾隨機探索\n",
        "    if sample > eps_threshold:\n",
        "        with torch.no_grad():  # 禁用梯度，僅推論模式\n",
        "            # 選擇Q值最高的動作(策略導向)\n",
        "            return policy_net(state).max(1)[1].view(1, 1)\n",
        "    else:\n",
        "        # 隨機選擇一個行動(探索導向)\n",
        "        return torch.tensor([[random.randrange(n_actions)]], device = device, dtype = torch.long)\n",
        "\n",
        "# 定義繪圖函式，用來顯示每回合的持續時間\n",
        "def plot_durations():\n",
        "    plt.figure(2)  # 建立一個新的圖形視窗，編號為2\n",
        "    plt.clf()      # 清除視窗中先前的圖形內容\n",
        "\n",
        "    # 將episode_durations(每回合持續時間)轉為張量\n",
        "    durations_t = torch.tensor(episode_durations, dtype = torch.float)\n",
        "\n",
        "    plt.title(\"Training...\")       # 設定圖表標題為\"Training...\"\n",
        "    plt.xlabel('Episode')          # 設定X軸標籤為'Episode'\n",
        "    plt.ylabel('Duration')         # 設定Y軸標籤為'Duration'\n",
        "    plt.plot(durations_t.numpy())  # 畫出每回合持續時間曲線\n",
        "\n",
        "    # 如果回合數超過100，則計算並繪製移動平均線\n",
        "    if len(durations_t) >= 100:\n",
        "        means = durations_t.unfold(0, 100, 1).mean(1).view(-1)  # 計算100回合的移動平均\n",
        "        means = torch.cat((torch.zeros(99), means))             # 前面補0讓長度對齊\n",
        "        plt.plot(means.numpy())                                 # 畫出移動平均線\n",
        "\n",
        "    plt.pause(0.001)            # 短暫暫停，更新畫面\n",
        "    display.display(plt.gcf())  # 顯示目前圖形"
      ]
    },
    {
      "cell_type": "code",
      "execution_count": 9,
      "metadata": {
        "id": "20zbX_n0ee25"
      },
      "outputs": [],
      "source": [
        "# 定義模型優化函式：從記憶庫中抽樣經驗，計算損失並更新policy_net權重\n",
        "def optimize_model():\n",
        "    # 若記憶體資料不足一個batch，則跳過此次優化\n",
        "    if len(memory) < BATCH_SIZE:\n",
        "        return\n",
        "\n",
        "    # 從記憶庫中隨機抽取一個batch的transition資料\n",
        "    transitions = memory.sample(BATCH_SIZE)\n",
        "\n",
        "    # 使用zip解包並轉換為namedtuple格式，方便存取各欄位\n",
        "    batch = Transition(*zip(*transitions))\n",
        "\n",
        "    # 建立一個mask，用來標記哪些next_state不是終止狀態(非None)\n",
        "    non_final_mask = torch.tensor(tuple(map(lambda s: s is not None, batch.next_state)), device = device, dtype = torch.bool)\n",
        "\n",
        "    # 將所有非None的next_state合併成一個大張量(batch形式)\n",
        "    non_final_next_states = torch.cat([s for s in batch.next_state if s is not None])\n",
        "\n",
        "    # 將所有state合併成一個大張量，用於批量計算\n",
        "    state_batch = torch.cat(batch.state)\n",
        "\n",
        "    # 將所有action合併成一個大張量\n",
        "    action_batch = torch.cat(batch.action)\n",
        "\n",
        "    # 將所有reward合併成一個大張量\n",
        "    reward_batch = torch.cat(batch.reward)\n",
        "\n",
        "    # 計算當前狀態和所執行動作的Q值(由policy_net預測)\n",
        "    state_action_values = policy_net(state_batch).gather(1, action_batch)\n",
        "\n",
        "    # 建立一個張量用來存放下一狀態的Q值，初始值全為0\n",
        "    next_state_values = torch.zeros(BATCH_SIZE, device = device)\n",
        "\n",
        "    # 計算非終止狀態的下一步最大Q值(由target_net預測)，並存入next_state_values中\n",
        "    next_state_values[non_final_mask] = target_net(non_final_next_states).max(1)[0].detach()\n",
        "\n",
        "    # 根據Bellman方程式計算預期的Q值：折扣後的下一狀態Q值加上獎勵\n",
        "    expected_state_action_values = (next_state_values * GAMMA) + reward_batch\n",
        "\n",
        "    # 定義損失函數為Huber損失(SmoothL1Loss)\n",
        "    criterion = nn.SmoothL1Loss()\n",
        "\n",
        "    # 計算當前Q值與目標Q值之間的損失\n",
        "    loss = criterion(state_action_values, expected_state_action_values.unsqueeze(1))\n",
        "\n",
        "    # 清空優化器中的梯度\n",
        "    optimizer.zero_grad()\n",
        "\n",
        "    # 反向傳播計算梯度\n",
        "    loss.backward()\n",
        "\n",
        "    # 對梯度進行裁剪，限制範圍在[-1, 1]，避免梯度爆炸\n",
        "    for param in policy_net.parameters():\n",
        "        param.grad.data.clamp_(-1, 1)\n",
        "    \n",
        "    # 更新policy_net的參數\n",
        "    optimizer.step()"
      ]
    },
    {
      "cell_type": "code",
      "execution_count": 10,
      "metadata": {
        "id": "ZIZT9bMree27"
      },
      "outputs": [],
      "source": [
        "# 訓練DQN模型\n",
        "# num_episodes：執行的回合數(預設150)\n",
        "num_episodes = 150\n",
        "\n",
        "# 進行指定數量的回合(num_episodes)\n",
        "for i_episode in range(num_episodes):\n",
        "    env.reset()                           # 重設環境並取得初始狀態\n",
        "    last_screen = get_screen()            # 取得上一時間點的畫面\n",
        "    current_screen = get_screen()         # 取得目前畫面\n",
        "    state = current_screen - last_screen  # 將狀態定義為畫面差值(捕捉變化)\n",
        "\n",
        "    # 透過無限迴圈進行每回合的步驟，若達終止狀態則提前跳出\n",
        "    for t in count():\n",
        "        # 根據目前狀態，透過ε-greedy策略取得動作(行動值最大或隨機探索)\n",
        "        action = select_action(state)\n",
        "\n",
        "        # 執行選定的動作，取得新狀態與獎勵\n",
        "        next_state, reward, terminated, truncated, _ = env.step(action.item())\n",
        "\n",
        "        # 判斷是否為終止狀態(遊戲結束)\n",
        "        done = terminated or truncated\n",
        "\n",
        "        # 將reward轉為張量，並放入計算裝置\n",
        "        reward = torch.tensor([reward], device = device)\n",
        "\n",
        "        # 保存當前畫面為上一畫面\n",
        "        last_screen = current_screen\n",
        "\n",
        "        # 取得新的畫面(當前時間點)\n",
        "        current_screen = get_screen()\n",
        "\n",
        "        # 如果回合未結束，計算下一狀態為畫面差值；否則下一狀態為None\n",
        "        if not done:\n",
        "            next_state = current_screen - last_screen\n",
        "        else:\n",
        "            next_state = None\n",
        "\n",
        "        # 將目前狀態、行動、下一狀態與回饋存入經驗回放記憶體\n",
        "        memory.push(state, action, next_state, reward)\n",
        "\n",
        "        # 更新目前狀態為下一狀態，準備進入下一步\n",
        "        state = next_state\n",
        "\n",
        "        # 執行神經網路優化函式，更新policy_net權重\n",
        "        optimize_model()\n",
        "\n",
        "        # 若回合結束，記錄持續時間並跳出迴圈\n",
        "        if done:\n",
        "            episode_durations.append(t + 1)\n",
        "            break\n",
        "\n",
        "    # 如果回合數是TARGET_UPDATE的倍數，將policy_net權重複製到target_net(穩定訓練)\n",
        "    if i_episode % TARGET_UPDATE == 0:\n",
        "        target_net.load_state_dict(policy_net.state_dict())"
      ]
    },
    {
      "cell_type": "code",
      "execution_count": 11,
      "metadata": {
        "colab": {
          "base_uri": "https://localhost:8080/",
          "height": 524
        },
        "id": "1BUvDwm1ee28",
        "outputId": "af1d955d-705e-4ae4-d770-5a19d4f7c10e"
      },
      "outputs": [
        {
          "data": {
            "image/png": "[encoded data removed]",
            "text/plain": [
              "<Figure size 640x480 with 1 Axes>"
            ]
          },
          "metadata": {},
          "output_type": "display_data"
        },
        {
          "data": {
            "text/plain": [
              "<Figure size 640x480 with 0 Axes>"
            ]
          },
          "metadata": {},
          "output_type": "display_data"
        },
        {
          "name": "stdout",
          "output_type": "stream",
          "text": [
            "Complete\n"
          ]
        },
        {
          "data": {
            "text/plain": [
              "<Figure size 640x480 with 0 Axes>"
            ]
          },
          "metadata": {},
          "output_type": "display_data"
        }
      ],
      "source": [
        "# 繪製訓練過程折線圖\n",
        "plot_durations()   # 顯示每回合步數變化曲線\n",
        "print('Complete')  # 輸出訓練完成提示訊息\n",
        "env.close()        # 關閉遊戲，釋放資源\n",
        "plt.ioff()         # 停用互動模式，切換為阻塞模式繪圖\n",
        "plt.show()         # 顯示所有圖形視窗"
      ]
    }
  ],
  "metadata": {
    "accelerator": "GPU",
    "colab": {
      "gpuType": "T4",
      "provenance": []
    },
    "kernelspec": {
      "display_name": "base",
      "language": "python",
      "name": "python3"
    },
    "language_info": {
      "codemirror_mode": {
        "name": "ipython",
        "version": 3
      },
      "file_extension": ".py",
      "mimetype": "text/x-python",
      "name": "python",
      "nbconvert_exporter": "python",
      "pygments_lexer": "ipython3",
      "version": "3.12.3"
    }
  },
  "nbformat": 4,
  "nbformat_minor": 0
}
